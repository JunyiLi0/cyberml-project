{
 "cells": [
  {
   "cell_type": "code",
   "execution_count": 1,
   "outputs": [],
   "source": [
    "import pandas as pd\n",
    "from mlsecu.anomaly_detection_use_case import *\n",
    "from mlsecu.data_exploration_utils import *\n",
    "from mlsecu.data_preparation_utils import *\n",
    "import re\n",
    "import matplotlib.pyplot as plt"
   ],
   "metadata": {
    "collapsed": false,
    "ExecuteTime": {
     "end_time": "2023-10-19T14:44:45.814795881Z",
     "start_time": "2023-10-19T14:44:42.698500252Z"
    }
   },
   "id": "abb977aa1c5eb654"
  },
  {
   "cell_type": "code",
   "execution_count": 2,
   "outputs": [],
   "source": [
    "def load_df(name):\n",
    "    df = pd.read_excel(name)\n",
    "    sensor_regex = re.compile(r'^(A|F|L|P)IT\\d{3}\\.Pv$')\n",
    "    sensor_cols = [col for col in df.columns if sensor_regex.match(col)]\n",
    "    sensor_cols.insert(0, 't_stamp')\n",
    "    df = df[sensor_cols]\n",
    "    return df\n",
    "\n",
    "def load_dfs():\n",
    "    names = ['data/22June2020 (1).xlsx', 'data/22June2020 (2).xlsx', \n",
    "             'data/29June2020 (1).xlsx', 'data/29June2020 (2).xlsx']\n",
    "    dfs = [load_df(name) for name in names]\n",
    "    df = pd.concat(dfs)\n",
    "    return df"
   ],
   "metadata": {
    "collapsed": false,
    "ExecuteTime": {
     "end_time": "2023-10-19T14:44:45.864798656Z",
     "start_time": "2023-10-19T14:44:45.818979766Z"
    }
   },
   "id": "790b3497444d477c"
  },
  {
   "cell_type": "code",
   "execution_count": 3,
   "outputs": [
    {
     "data": {
      "text/plain": "              t_stamp   LIT101.Pv  FIT101.Pv  FIT201.Pv  AIT201.Pv  AIT202.Pv  \\\n0 2020-06-22 09:00:00  602.412048          0   0.000384  54.633427   7.587029   \n1 2020-06-22 09:00:01  602.372800          0   0.000384  54.633427   7.587029   \n2 2020-06-22 09:00:02  602.215800          0   0.000384  54.633427   7.581902   \n3 2020-06-22 09:00:03  601.901800          0   0.000384  54.633427   7.575173   \n4 2020-06-22 09:00:04  601.901800          0   0.000384  54.633427   7.569726   \n\n    AIT203.Pv  AIT301.Pv   AIT302.Pv  AIT303.Pv  ...  FIT503.Pv  FIT504.Pv  \\\n0  175.237122   6.739260  209.590881  47.570263  ...   0.002305          0   \n1  175.237122   6.739260  209.590881  47.570263  ...   0.002305          0   \n2  175.237122   6.731353  209.590881  47.570263  ...   0.002305          0   \n3  175.237122   6.731353  209.616486  47.570263  ...   0.002305          0   \n4  175.262756   6.731353  209.616486  47.570263  ...   0.002305          0   \n\n   AIT501.Pv   AIT502.Pv  AIT503.Pv  AIT504.Pv  PIT501.Pv  PIT502.Pv  \\\n0    7.31979  257.446800  47.680080   2.345552  28.165855  16.739820   \n1    7.31979  257.446800  47.680080   2.345552  28.165855  16.739820   \n2    7.31979  257.446800  47.680080   2.345552  28.165855  16.755838   \n3    7.31979  257.472443  47.808254   2.653166  28.165855  16.755838   \n4    7.31979  257.574982  47.808254   2.653166  28.165855  16.755838   \n\n   PIT503.Pv  FIT601.Pv  \n0  23.663805   0.000256  \n1  23.663805   0.000256  \n2  23.663805   0.000256  \n3  23.663805   0.000256  \n4  23.663805   0.000256  \n\n[5 rows x 28 columns]",
      "text/html": "<div>\n<style scoped>\n    .dataframe tbody tr th:only-of-type {\n        vertical-align: middle;\n    }\n\n    .dataframe tbody tr th {\n        vertical-align: top;\n    }\n\n    .dataframe thead th {\n        text-align: right;\n    }\n</style>\n<table border=\"1\" class=\"dataframe\">\n  <thead>\n    <tr style=\"text-align: right;\">\n      <th></th>\n      <th>t_stamp</th>\n      <th>LIT101.Pv</th>\n      <th>FIT101.Pv</th>\n      <th>FIT201.Pv</th>\n      <th>AIT201.Pv</th>\n      <th>AIT202.Pv</th>\n      <th>AIT203.Pv</th>\n      <th>AIT301.Pv</th>\n      <th>AIT302.Pv</th>\n      <th>AIT303.Pv</th>\n      <th>...</th>\n      <th>FIT503.Pv</th>\n      <th>FIT504.Pv</th>\n      <th>AIT501.Pv</th>\n      <th>AIT502.Pv</th>\n      <th>AIT503.Pv</th>\n      <th>AIT504.Pv</th>\n      <th>PIT501.Pv</th>\n      <th>PIT502.Pv</th>\n      <th>PIT503.Pv</th>\n      <th>FIT601.Pv</th>\n    </tr>\n  </thead>\n  <tbody>\n    <tr>\n      <th>0</th>\n      <td>2020-06-22 09:00:00</td>\n      <td>602.412048</td>\n      <td>0</td>\n      <td>0.000384</td>\n      <td>54.633427</td>\n      <td>7.587029</td>\n      <td>175.237122</td>\n      <td>6.739260</td>\n      <td>209.590881</td>\n      <td>47.570263</td>\n      <td>...</td>\n      <td>0.002305</td>\n      <td>0</td>\n      <td>7.31979</td>\n      <td>257.446800</td>\n      <td>47.680080</td>\n      <td>2.345552</td>\n      <td>28.165855</td>\n      <td>16.739820</td>\n      <td>23.663805</td>\n      <td>0.000256</td>\n    </tr>\n    <tr>\n      <th>1</th>\n      <td>2020-06-22 09:00:01</td>\n      <td>602.372800</td>\n      <td>0</td>\n      <td>0.000384</td>\n      <td>54.633427</td>\n      <td>7.587029</td>\n      <td>175.237122</td>\n      <td>6.739260</td>\n      <td>209.590881</td>\n      <td>47.570263</td>\n      <td>...</td>\n      <td>0.002305</td>\n      <td>0</td>\n      <td>7.31979</td>\n      <td>257.446800</td>\n      <td>47.680080</td>\n      <td>2.345552</td>\n      <td>28.165855</td>\n      <td>16.739820</td>\n      <td>23.663805</td>\n      <td>0.000256</td>\n    </tr>\n    <tr>\n      <th>2</th>\n      <td>2020-06-22 09:00:02</td>\n      <td>602.215800</td>\n      <td>0</td>\n      <td>0.000384</td>\n      <td>54.633427</td>\n      <td>7.581902</td>\n      <td>175.237122</td>\n      <td>6.731353</td>\n      <td>209.590881</td>\n      <td>47.570263</td>\n      <td>...</td>\n      <td>0.002305</td>\n      <td>0</td>\n      <td>7.31979</td>\n      <td>257.446800</td>\n      <td>47.680080</td>\n      <td>2.345552</td>\n      <td>28.165855</td>\n      <td>16.755838</td>\n      <td>23.663805</td>\n      <td>0.000256</td>\n    </tr>\n    <tr>\n      <th>3</th>\n      <td>2020-06-22 09:00:03</td>\n      <td>601.901800</td>\n      <td>0</td>\n      <td>0.000384</td>\n      <td>54.633427</td>\n      <td>7.575173</td>\n      <td>175.237122</td>\n      <td>6.731353</td>\n      <td>209.616486</td>\n      <td>47.570263</td>\n      <td>...</td>\n      <td>0.002305</td>\n      <td>0</td>\n      <td>7.31979</td>\n      <td>257.472443</td>\n      <td>47.808254</td>\n      <td>2.653166</td>\n      <td>28.165855</td>\n      <td>16.755838</td>\n      <td>23.663805</td>\n      <td>0.000256</td>\n    </tr>\n    <tr>\n      <th>4</th>\n      <td>2020-06-22 09:00:04</td>\n      <td>601.901800</td>\n      <td>0</td>\n      <td>0.000384</td>\n      <td>54.633427</td>\n      <td>7.569726</td>\n      <td>175.262756</td>\n      <td>6.731353</td>\n      <td>209.616486</td>\n      <td>47.570263</td>\n      <td>...</td>\n      <td>0.002305</td>\n      <td>0</td>\n      <td>7.31979</td>\n      <td>257.574982</td>\n      <td>47.808254</td>\n      <td>2.653166</td>\n      <td>28.165855</td>\n      <td>16.755838</td>\n      <td>23.663805</td>\n      <td>0.000256</td>\n    </tr>\n  </tbody>\n</table>\n<p>5 rows × 28 columns</p>\n</div>"
     },
     "execution_count": 3,
     "metadata": {},
     "output_type": "execute_result"
    }
   ],
   "source": [
    "df = load_df('data/22June2020 (2).xlsx')\n",
    "df.head()"
   ],
   "metadata": {
    "collapsed": false,
    "ExecuteTime": {
     "end_time": "2023-10-19T14:44:49.982093387Z",
     "start_time": "2023-10-19T14:44:45.826365586Z"
    }
   },
   "id": "c9d49b203f480c6d"
  },
  {
   "cell_type": "code",
   "execution_count": 4,
   "outputs": [
    {
     "data": {
      "text/plain": "                             t_stamp    LIT101.Pv  FIT101.Pv    FIT201.Pv  \\\ncount                           3600  3600.000000     3600.0  3600.000000   \nmean   2020-06-22 09:29:59.500000256   662.644693        0.0     0.930189   \nmin              2020-06-22 09:00:00   524.887900        0.0     0.000000   \n25%    2020-06-22 09:14:59.750000128   602.991041        0.0     0.000256   \n50%       2020-06-22 09:29:59.500000   693.910300        0.0     0.000384   \n75%    2020-06-22 09:44:59.249999872   694.970100        0.0     2.347996   \nmax              2020-06-22 09:59:59   810.255432        0.0     2.390671   \nstd                              NaN    60.609136        0.0     1.147530   \n\n         AIT201.Pv    AIT202.Pv    AIT203.Pv    AIT301.Pv    AIT302.Pv  \\\ncount  3600.000000  3600.000000  3600.000000  3600.000000  3600.000000   \nmean     31.776921     7.628528   147.472230     7.468675   129.706063   \nmin      17.591642     7.355999   130.633163     6.571548   109.251549   \n25%      18.072288     7.549539   136.682900     7.495214   110.788139   \n50%      26.371443     7.579179   139.246353     7.573244   112.068634   \n75%      37.586517     7.692531   166.489362     7.617357   135.091873   \nmax      54.921814     7.918995   175.672900     7.758852   209.949417   \nstd      14.771534     0.133763    16.604852     0.284367    31.017039   \n\n         AIT303.Pv  ...    FIT503.Pv  FIT504.Pv    AIT501.Pv    AIT502.Pv  \\\ncount  3600.000000  ...  3600.000000     3600.0  3600.000000  3600.000000   \nmean     43.709538  ...     0.107635        0.0     7.484559   175.587599   \nmin      39.631218  ...     0.002305        0.0     7.310818   149.756470   \n25%      40.143414  ...     0.115866        0.0     7.382835   151.916175   \n50%      43.248604  ...     0.117018        0.0     7.500834   158.831070   \n75%      47.570263  ...     0.117658        0.0     7.576776   185.657517   \nmax      58.742554  ...     0.120603        0.0     7.636055   257.985138   \nstd       3.582221  ...     0.031092        0.0     0.100684    33.600563   \n\n         AIT503.Pv    AIT504.Pv    PIT501.Pv    PIT502.Pv    PIT503.Pv  \\\ncount  3600.000000  3600.000000  3600.000000  3600.000000  3600.000000   \nmean     47.477490     3.473586   216.896905     3.261795   193.131444   \nmin      46.814920     1.538067    18.056267     1.842181    13.089592   \n25%      46.911050     1.922584   232.953100     2.050428   207.558960   \n50%      47.551910     1.961036   233.850300     2.050428   208.408100   \n75%      48.032555     2.037939   234.523200     2.066447   208.984879   \nmax      48.288900   101.473984   237.214813    16.755838   211.452200   \nstd       0.509980     9.337131    55.897594     3.911960    50.254552   \n\n         FIT601.Pv  \ncount  3600.000000  \nmean      0.000257  \nmin       0.000256  \n25%       0.000256  \n50%       0.000256  \n75%       0.000256  \nmax       0.000449  \nstd       0.000007  \n\n[8 rows x 28 columns]",
      "text/html": "<div>\n<style scoped>\n    .dataframe tbody tr th:only-of-type {\n        vertical-align: middle;\n    }\n\n    .dataframe tbody tr th {\n        vertical-align: top;\n    }\n\n    .dataframe thead th {\n        text-align: right;\n    }\n</style>\n<table border=\"1\" class=\"dataframe\">\n  <thead>\n    <tr style=\"text-align: right;\">\n      <th></th>\n      <th>t_stamp</th>\n      <th>LIT101.Pv</th>\n      <th>FIT101.Pv</th>\n      <th>FIT201.Pv</th>\n      <th>AIT201.Pv</th>\n      <th>AIT202.Pv</th>\n      <th>AIT203.Pv</th>\n      <th>AIT301.Pv</th>\n      <th>AIT302.Pv</th>\n      <th>AIT303.Pv</th>\n      <th>...</th>\n      <th>FIT503.Pv</th>\n      <th>FIT504.Pv</th>\n      <th>AIT501.Pv</th>\n      <th>AIT502.Pv</th>\n      <th>AIT503.Pv</th>\n      <th>AIT504.Pv</th>\n      <th>PIT501.Pv</th>\n      <th>PIT502.Pv</th>\n      <th>PIT503.Pv</th>\n      <th>FIT601.Pv</th>\n    </tr>\n  </thead>\n  <tbody>\n    <tr>\n      <th>count</th>\n      <td>3600</td>\n      <td>3600.000000</td>\n      <td>3600.0</td>\n      <td>3600.000000</td>\n      <td>3600.000000</td>\n      <td>3600.000000</td>\n      <td>3600.000000</td>\n      <td>3600.000000</td>\n      <td>3600.000000</td>\n      <td>3600.000000</td>\n      <td>...</td>\n      <td>3600.000000</td>\n      <td>3600.0</td>\n      <td>3600.000000</td>\n      <td>3600.000000</td>\n      <td>3600.000000</td>\n      <td>3600.000000</td>\n      <td>3600.000000</td>\n      <td>3600.000000</td>\n      <td>3600.000000</td>\n      <td>3600.000000</td>\n    </tr>\n    <tr>\n      <th>mean</th>\n      <td>2020-06-22 09:29:59.500000256</td>\n      <td>662.644693</td>\n      <td>0.0</td>\n      <td>0.930189</td>\n      <td>31.776921</td>\n      <td>7.628528</td>\n      <td>147.472230</td>\n      <td>7.468675</td>\n      <td>129.706063</td>\n      <td>43.709538</td>\n      <td>...</td>\n      <td>0.107635</td>\n      <td>0.0</td>\n      <td>7.484559</td>\n      <td>175.587599</td>\n      <td>47.477490</td>\n      <td>3.473586</td>\n      <td>216.896905</td>\n      <td>3.261795</td>\n      <td>193.131444</td>\n      <td>0.000257</td>\n    </tr>\n    <tr>\n      <th>min</th>\n      <td>2020-06-22 09:00:00</td>\n      <td>524.887900</td>\n      <td>0.0</td>\n      <td>0.000000</td>\n      <td>17.591642</td>\n      <td>7.355999</td>\n      <td>130.633163</td>\n      <td>6.571548</td>\n      <td>109.251549</td>\n      <td>39.631218</td>\n      <td>...</td>\n      <td>0.002305</td>\n      <td>0.0</td>\n      <td>7.310818</td>\n      <td>149.756470</td>\n      <td>46.814920</td>\n      <td>1.538067</td>\n      <td>18.056267</td>\n      <td>1.842181</td>\n      <td>13.089592</td>\n      <td>0.000256</td>\n    </tr>\n    <tr>\n      <th>25%</th>\n      <td>2020-06-22 09:14:59.750000128</td>\n      <td>602.991041</td>\n      <td>0.0</td>\n      <td>0.000256</td>\n      <td>18.072288</td>\n      <td>7.549539</td>\n      <td>136.682900</td>\n      <td>7.495214</td>\n      <td>110.788139</td>\n      <td>40.143414</td>\n      <td>...</td>\n      <td>0.115866</td>\n      <td>0.0</td>\n      <td>7.382835</td>\n      <td>151.916175</td>\n      <td>46.911050</td>\n      <td>1.922584</td>\n      <td>232.953100</td>\n      <td>2.050428</td>\n      <td>207.558960</td>\n      <td>0.000256</td>\n    </tr>\n    <tr>\n      <th>50%</th>\n      <td>2020-06-22 09:29:59.500000</td>\n      <td>693.910300</td>\n      <td>0.0</td>\n      <td>0.000384</td>\n      <td>26.371443</td>\n      <td>7.579179</td>\n      <td>139.246353</td>\n      <td>7.573244</td>\n      <td>112.068634</td>\n      <td>43.248604</td>\n      <td>...</td>\n      <td>0.117018</td>\n      <td>0.0</td>\n      <td>7.500834</td>\n      <td>158.831070</td>\n      <td>47.551910</td>\n      <td>1.961036</td>\n      <td>233.850300</td>\n      <td>2.050428</td>\n      <td>208.408100</td>\n      <td>0.000256</td>\n    </tr>\n    <tr>\n      <th>75%</th>\n      <td>2020-06-22 09:44:59.249999872</td>\n      <td>694.970100</td>\n      <td>0.0</td>\n      <td>2.347996</td>\n      <td>37.586517</td>\n      <td>7.692531</td>\n      <td>166.489362</td>\n      <td>7.617357</td>\n      <td>135.091873</td>\n      <td>47.570263</td>\n      <td>...</td>\n      <td>0.117658</td>\n      <td>0.0</td>\n      <td>7.576776</td>\n      <td>185.657517</td>\n      <td>48.032555</td>\n      <td>2.037939</td>\n      <td>234.523200</td>\n      <td>2.066447</td>\n      <td>208.984879</td>\n      <td>0.000256</td>\n    </tr>\n    <tr>\n      <th>max</th>\n      <td>2020-06-22 09:59:59</td>\n      <td>810.255432</td>\n      <td>0.0</td>\n      <td>2.390671</td>\n      <td>54.921814</td>\n      <td>7.918995</td>\n      <td>175.672900</td>\n      <td>7.758852</td>\n      <td>209.949417</td>\n      <td>58.742554</td>\n      <td>...</td>\n      <td>0.120603</td>\n      <td>0.0</td>\n      <td>7.636055</td>\n      <td>257.985138</td>\n      <td>48.288900</td>\n      <td>101.473984</td>\n      <td>237.214813</td>\n      <td>16.755838</td>\n      <td>211.452200</td>\n      <td>0.000449</td>\n    </tr>\n    <tr>\n      <th>std</th>\n      <td>NaN</td>\n      <td>60.609136</td>\n      <td>0.0</td>\n      <td>1.147530</td>\n      <td>14.771534</td>\n      <td>0.133763</td>\n      <td>16.604852</td>\n      <td>0.284367</td>\n      <td>31.017039</td>\n      <td>3.582221</td>\n      <td>...</td>\n      <td>0.031092</td>\n      <td>0.0</td>\n      <td>0.100684</td>\n      <td>33.600563</td>\n      <td>0.509980</td>\n      <td>9.337131</td>\n      <td>55.897594</td>\n      <td>3.911960</td>\n      <td>50.254552</td>\n      <td>0.000007</td>\n    </tr>\n  </tbody>\n</table>\n<p>8 rows × 28 columns</p>\n</div>"
     },
     "execution_count": 4,
     "metadata": {},
     "output_type": "execute_result"
    }
   ],
   "source": [
    "df.describe(include='all')"
   ],
   "metadata": {
    "collapsed": false,
    "ExecuteTime": {
     "end_time": "2023-10-19T14:44:50.125238854Z",
     "start_time": "2023-10-19T14:44:49.979135090Z"
    }
   },
   "id": "94b399cbde5db328"
  },
  {
   "cell_type": "code",
   "execution_count": 5,
   "outputs": [
    {
     "name": "stdout",
     "output_type": "stream",
     "text": [
      "Rate of undefined values for each column:\n",
      "t_stamp: 0.0\n",
      "LIT101.Pv: 0.0\n",
      "FIT101.Pv: 0.0\n",
      "FIT201.Pv: 0.0\n",
      "AIT201.Pv: 0.0\n",
      "AIT202.Pv: 0.0\n",
      "AIT203.Pv: 0.0\n",
      "AIT301.Pv: 0.0\n",
      "AIT302.Pv: 0.0\n",
      "AIT303.Pv: 0.0\n",
      "LIT301.Pv: 0.0\n",
      "FIT301.Pv: 0.0\n",
      "LIT401.Pv: 0.0\n",
      "FIT401.Pv: 0.0\n",
      "AIT401.Pv: 0.0\n",
      "AIT402.Pv: 0.0\n",
      "FIT501.Pv: 0.0\n",
      "FIT502.Pv: 0.0\n",
      "FIT503.Pv: 0.0\n",
      "FIT504.Pv: 0.0\n",
      "AIT501.Pv: 0.0\n",
      "AIT502.Pv: 0.0\n",
      "AIT503.Pv: 0.0\n",
      "AIT504.Pv: 0.0\n",
      "PIT501.Pv: 0.0\n",
      "PIT502.Pv: 0.0\n",
      "PIT503.Pv: 0.0\n",
      "FIT601.Pv: 0.0\n"
     ]
    }
   ],
   "source": [
    "print('Rate of undefined values for each column:')\n",
    "for col in df.columns:\n",
    "    print(f'{col}: {df[col].isna().sum() / len(df[col])}')"
   ],
   "metadata": {
    "collapsed": false,
    "ExecuteTime": {
     "end_time": "2023-10-19T14:44:50.180486269Z",
     "start_time": "2023-10-19T14:44:50.079889335Z"
    }
   },
   "id": "26588e3dfc974614"
  },
  {
   "cell_type": "code",
   "execution_count": 6,
   "outputs": [
    {
     "data": {
      "text/plain": "                      t_stamp   LIT101.Pv FIT101.Pv FIT201.Pv  AIT201.Pv  \\\n0         2020-06-22 10:00:00    695.2841       0.0  0.000256  18.072288   \n1         2020-06-22 10:00:01    695.1271       0.0  0.000256  18.104332   \n2  2020-06-22 10:00:02.005000  694.930847       0.0  0.000256  18.104332   \n3  2020-06-22 10:00:03.010000  694.930847       0.0  0.000256  18.104332   \n4  2020-06-22 10:00:04.015000    694.8523       0.0  0.000256  18.104332   \n\n  AIT202.Pv   AIT203.Pv  AIT301.Pv  AIT302.Pv  AIT303.Pv  ... FIT503.Pv  \\\n0  7.519418  135.708786   7.482105   110.4296  40.335487  ...  0.116122   \n1  7.514612  135.708786   7.482105   110.4296  40.335487  ...  0.116122   \n2  7.508844  135.708786   7.482105   110.4296  40.335487  ...  0.116122   \n3  7.504678  135.708786   7.489596   110.4296  40.335487  ...  0.116122   \n4  7.498911  135.708786   7.489596   110.4296  40.143414  ...  0.116122   \n\n  FIT504.Pv AIT501.Pv   AIT502.Pv AIT503.Pv AIT504.Pv   PIT501.Pv PIT502.Pv  \\\n0         0  7.615548    149.6283  46.91105  1.845681  232.376312   2.01839   \n1         0  7.612343    149.6283  46.91105  1.845681  232.376312   2.01839   \n2         0  7.612343    149.6283  46.91105  1.845681  232.376312   2.01839   \n3         0  7.612343  149.525757  46.91105  1.845681  232.376312   2.01839   \n4         0  7.611382  149.525757  46.91105  1.845681  232.376312   2.01839   \n\n  PIT503.Pv FIT601.Pv  \n0  206.9982  0.000256  \n1  206.9982  0.000256  \n2  206.9982  0.000256  \n3  206.9982  0.000256  \n4  206.9982  0.000256  \n\n[5 rows x 28 columns]",
      "text/html": "<div>\n<style scoped>\n    .dataframe tbody tr th:only-of-type {\n        vertical-align: middle;\n    }\n\n    .dataframe tbody tr th {\n        vertical-align: top;\n    }\n\n    .dataframe thead th {\n        text-align: right;\n    }\n</style>\n<table border=\"1\" class=\"dataframe\">\n  <thead>\n    <tr style=\"text-align: right;\">\n      <th></th>\n      <th>t_stamp</th>\n      <th>LIT101.Pv</th>\n      <th>FIT101.Pv</th>\n      <th>FIT201.Pv</th>\n      <th>AIT201.Pv</th>\n      <th>AIT202.Pv</th>\n      <th>AIT203.Pv</th>\n      <th>AIT301.Pv</th>\n      <th>AIT302.Pv</th>\n      <th>AIT303.Pv</th>\n      <th>...</th>\n      <th>FIT503.Pv</th>\n      <th>FIT504.Pv</th>\n      <th>AIT501.Pv</th>\n      <th>AIT502.Pv</th>\n      <th>AIT503.Pv</th>\n      <th>AIT504.Pv</th>\n      <th>PIT501.Pv</th>\n      <th>PIT502.Pv</th>\n      <th>PIT503.Pv</th>\n      <th>FIT601.Pv</th>\n    </tr>\n  </thead>\n  <tbody>\n    <tr>\n      <th>0</th>\n      <td>2020-06-22 10:00:00</td>\n      <td>695.2841</td>\n      <td>0.0</td>\n      <td>0.000256</td>\n      <td>18.072288</td>\n      <td>7.519418</td>\n      <td>135.708786</td>\n      <td>7.482105</td>\n      <td>110.4296</td>\n      <td>40.335487</td>\n      <td>...</td>\n      <td>0.116122</td>\n      <td>0</td>\n      <td>7.615548</td>\n      <td>149.6283</td>\n      <td>46.91105</td>\n      <td>1.845681</td>\n      <td>232.376312</td>\n      <td>2.01839</td>\n      <td>206.9982</td>\n      <td>0.000256</td>\n    </tr>\n    <tr>\n      <th>1</th>\n      <td>2020-06-22 10:00:01</td>\n      <td>695.1271</td>\n      <td>0.0</td>\n      <td>0.000256</td>\n      <td>18.104332</td>\n      <td>7.514612</td>\n      <td>135.708786</td>\n      <td>7.482105</td>\n      <td>110.4296</td>\n      <td>40.335487</td>\n      <td>...</td>\n      <td>0.116122</td>\n      <td>0</td>\n      <td>7.612343</td>\n      <td>149.6283</td>\n      <td>46.91105</td>\n      <td>1.845681</td>\n      <td>232.376312</td>\n      <td>2.01839</td>\n      <td>206.9982</td>\n      <td>0.000256</td>\n    </tr>\n    <tr>\n      <th>2</th>\n      <td>2020-06-22 10:00:02.005000</td>\n      <td>694.930847</td>\n      <td>0.0</td>\n      <td>0.000256</td>\n      <td>18.104332</td>\n      <td>7.508844</td>\n      <td>135.708786</td>\n      <td>7.482105</td>\n      <td>110.4296</td>\n      <td>40.335487</td>\n      <td>...</td>\n      <td>0.116122</td>\n      <td>0</td>\n      <td>7.612343</td>\n      <td>149.6283</td>\n      <td>46.91105</td>\n      <td>1.845681</td>\n      <td>232.376312</td>\n      <td>2.01839</td>\n      <td>206.9982</td>\n      <td>0.000256</td>\n    </tr>\n    <tr>\n      <th>3</th>\n      <td>2020-06-22 10:00:03.010000</td>\n      <td>694.930847</td>\n      <td>0.0</td>\n      <td>0.000256</td>\n      <td>18.104332</td>\n      <td>7.504678</td>\n      <td>135.708786</td>\n      <td>7.489596</td>\n      <td>110.4296</td>\n      <td>40.335487</td>\n      <td>...</td>\n      <td>0.116122</td>\n      <td>0</td>\n      <td>7.612343</td>\n      <td>149.525757</td>\n      <td>46.91105</td>\n      <td>1.845681</td>\n      <td>232.376312</td>\n      <td>2.01839</td>\n      <td>206.9982</td>\n      <td>0.000256</td>\n    </tr>\n    <tr>\n      <th>4</th>\n      <td>2020-06-22 10:00:04.015000</td>\n      <td>694.8523</td>\n      <td>0.0</td>\n      <td>0.000256</td>\n      <td>18.104332</td>\n      <td>7.498911</td>\n      <td>135.708786</td>\n      <td>7.489596</td>\n      <td>110.4296</td>\n      <td>40.143414</td>\n      <td>...</td>\n      <td>0.116122</td>\n      <td>0</td>\n      <td>7.611382</td>\n      <td>149.525757</td>\n      <td>46.91105</td>\n      <td>1.845681</td>\n      <td>232.376312</td>\n      <td>2.01839</td>\n      <td>206.9982</td>\n      <td>0.000256</td>\n    </tr>\n  </tbody>\n</table>\n<p>5 rows × 28 columns</p>\n</div>"
     },
     "execution_count": 6,
     "metadata": {},
     "output_type": "execute_result"
    }
   ],
   "source": [
    "all_df = load_dfs()\n",
    "all_df.head()"
   ],
   "metadata": {
    "collapsed": false,
    "ExecuteTime": {
     "end_time": "2023-10-19T14:48:09.897864365Z",
     "start_time": "2023-10-19T14:44:50.088042697Z"
    }
   },
   "id": "9e6caac4536ac133"
  },
  {
   "cell_type": "code",
   "execution_count": 7,
   "outputs": [
    {
     "data": {
      "text/plain": "          AIT301.Pv     AIT302.Pv     AIT303.Pv\ncount  18000.000000  18000.000000  18000.000000\nmean       7.683444    141.575679     47.199129\nstd        0.345545     31.024576     17.202684\nmin        6.571548    102.285675     29.003136\n25%        7.396376    113.093025     40.047375\n50%        7.629842    141.699219     44.128944\n75%        7.992317    169.793200     50.579422\nmax        8.345636    209.949417    327.133600",
      "text/html": "<div>\n<style scoped>\n    .dataframe tbody tr th:only-of-type {\n        vertical-align: middle;\n    }\n\n    .dataframe tbody tr th {\n        vertical-align: top;\n    }\n\n    .dataframe thead th {\n        text-align: right;\n    }\n</style>\n<table border=\"1\" class=\"dataframe\">\n  <thead>\n    <tr style=\"text-align: right;\">\n      <th></th>\n      <th>AIT301.Pv</th>\n      <th>AIT302.Pv</th>\n      <th>AIT303.Pv</th>\n    </tr>\n  </thead>\n  <tbody>\n    <tr>\n      <th>count</th>\n      <td>18000.000000</td>\n      <td>18000.000000</td>\n      <td>18000.000000</td>\n    </tr>\n    <tr>\n      <th>mean</th>\n      <td>7.683444</td>\n      <td>141.575679</td>\n      <td>47.199129</td>\n    </tr>\n    <tr>\n      <th>std</th>\n      <td>0.345545</td>\n      <td>31.024576</td>\n      <td>17.202684</td>\n    </tr>\n    <tr>\n      <th>min</th>\n      <td>6.571548</td>\n      <td>102.285675</td>\n      <td>29.003136</td>\n    </tr>\n    <tr>\n      <th>25%</th>\n      <td>7.396376</td>\n      <td>113.093025</td>\n      <td>40.047375</td>\n    </tr>\n    <tr>\n      <th>50%</th>\n      <td>7.629842</td>\n      <td>141.699219</td>\n      <td>44.128944</td>\n    </tr>\n    <tr>\n      <th>75%</th>\n      <td>7.992317</td>\n      <td>169.793200</td>\n      <td>50.579422</td>\n    </tr>\n    <tr>\n      <th>max</th>\n      <td>8.345636</td>\n      <td>209.949417</td>\n      <td>327.133600</td>\n    </tr>\n  </tbody>\n</table>\n</div>"
     },
     "execution_count": 7,
     "metadata": {},
     "output_type": "execute_result"
    }
   ],
   "source": [
    "all_df.describe()"
   ],
   "metadata": {
    "collapsed": false,
    "ExecuteTime": {
     "end_time": "2023-10-19T14:48:09.940416113Z",
     "start_time": "2023-10-19T14:48:09.848235399Z"
    }
   },
   "id": "a817f55eddd450dd"
  },
  {
   "cell_type": "code",
   "execution_count": 8,
   "outputs": [
    {
     "data": {
      "text/plain": "                    t_stamp   LIT101.Pv  FIT101.Pv     FIT201.Pv  \\\ncount                 32402  32402.0000    32402.0  32402.000000   \nunique                32402   5869.0000      307.0   1003.000000   \ntop     2020-06-22 10:00:00    613.9524        0.0      0.000256   \nfreq                      1    271.0000    29387.0  11524.000000   \n\n           AIT201.Pv     AIT202.Pv     AIT203.Pv    LIT301.Pv     FIT301.Pv  \\\ncount   32402.000000  32402.000000  32402.000000  32402.00000  32402.000000   \nunique   1818.000000   5839.000000   2955.000000   5407.00000   1690.000000   \ntop        18.072288      9.640348    130.376831   1006.75311      0.000641   \nfreq     3802.000000     49.000000    212.000000   1363.00000  10308.000000   \n\n          LIT401.Pv  ...     FIT503.Pv  FIT504.Pv     AIT501.Pv  AIT502.Pv  \\\ncount   32402.00000  ...  32402.000000      32402  32402.000000      32402   \nunique   7874.00000  ...    128.000000          3   1370.000000       1283   \ntop      1006.20355  ...      0.002176          0      7.264676        260   \nfreq      296.00000  ...   6936.000000      32400    110.000000       7200   \n\n          AIT503.Pv     AIT504.Pv     PIT501.Pv     PIT502.Pv     PIT503.Pv  \\\ncount   32402.00000  32402.000000  32402.000000  32402.000000  32402.000000   \nunique    614.00000    359.000000    800.000000    214.000000    782.000000   \ntop        46.91105      1.691874     12.352602      2.050428      7.834529   \nfreq     3673.00000   2914.000000   1474.000000   4056.000000    938.000000   \n\n           FIT601.Pv  \ncount   32402.000000  \nunique    169.000000  \ntop         0.000256  \nfreq    23697.000000  \n\n[4 rows x 25 columns]",
      "text/html": "<div>\n<style scoped>\n    .dataframe tbody tr th:only-of-type {\n        vertical-align: middle;\n    }\n\n    .dataframe tbody tr th {\n        vertical-align: top;\n    }\n\n    .dataframe thead th {\n        text-align: right;\n    }\n</style>\n<table border=\"1\" class=\"dataframe\">\n  <thead>\n    <tr style=\"text-align: right;\">\n      <th></th>\n      <th>t_stamp</th>\n      <th>LIT101.Pv</th>\n      <th>FIT101.Pv</th>\n      <th>FIT201.Pv</th>\n      <th>AIT201.Pv</th>\n      <th>AIT202.Pv</th>\n      <th>AIT203.Pv</th>\n      <th>LIT301.Pv</th>\n      <th>FIT301.Pv</th>\n      <th>LIT401.Pv</th>\n      <th>...</th>\n      <th>FIT503.Pv</th>\n      <th>FIT504.Pv</th>\n      <th>AIT501.Pv</th>\n      <th>AIT502.Pv</th>\n      <th>AIT503.Pv</th>\n      <th>AIT504.Pv</th>\n      <th>PIT501.Pv</th>\n      <th>PIT502.Pv</th>\n      <th>PIT503.Pv</th>\n      <th>FIT601.Pv</th>\n    </tr>\n  </thead>\n  <tbody>\n    <tr>\n      <th>count</th>\n      <td>32402</td>\n      <td>32402.0000</td>\n      <td>32402.0</td>\n      <td>32402.000000</td>\n      <td>32402.000000</td>\n      <td>32402.000000</td>\n      <td>32402.000000</td>\n      <td>32402.00000</td>\n      <td>32402.000000</td>\n      <td>32402.00000</td>\n      <td>...</td>\n      <td>32402.000000</td>\n      <td>32402</td>\n      <td>32402.000000</td>\n      <td>32402</td>\n      <td>32402.00000</td>\n      <td>32402.000000</td>\n      <td>32402.000000</td>\n      <td>32402.000000</td>\n      <td>32402.000000</td>\n      <td>32402.000000</td>\n    </tr>\n    <tr>\n      <th>unique</th>\n      <td>32402</td>\n      <td>5869.0000</td>\n      <td>307.0</td>\n      <td>1003.000000</td>\n      <td>1818.000000</td>\n      <td>5839.000000</td>\n      <td>2955.000000</td>\n      <td>5407.00000</td>\n      <td>1690.000000</td>\n      <td>7874.00000</td>\n      <td>...</td>\n      <td>128.000000</td>\n      <td>3</td>\n      <td>1370.000000</td>\n      <td>1283</td>\n      <td>614.00000</td>\n      <td>359.000000</td>\n      <td>800.000000</td>\n      <td>214.000000</td>\n      <td>782.000000</td>\n      <td>169.000000</td>\n    </tr>\n    <tr>\n      <th>top</th>\n      <td>2020-06-22 10:00:00</td>\n      <td>613.9524</td>\n      <td>0.0</td>\n      <td>0.000256</td>\n      <td>18.072288</td>\n      <td>9.640348</td>\n      <td>130.376831</td>\n      <td>1006.75311</td>\n      <td>0.000641</td>\n      <td>1006.20355</td>\n      <td>...</td>\n      <td>0.002176</td>\n      <td>0</td>\n      <td>7.264676</td>\n      <td>260</td>\n      <td>46.91105</td>\n      <td>1.691874</td>\n      <td>12.352602</td>\n      <td>2.050428</td>\n      <td>7.834529</td>\n      <td>0.000256</td>\n    </tr>\n    <tr>\n      <th>freq</th>\n      <td>1</td>\n      <td>271.0000</td>\n      <td>29387.0</td>\n      <td>11524.000000</td>\n      <td>3802.000000</td>\n      <td>49.000000</td>\n      <td>212.000000</td>\n      <td>1363.00000</td>\n      <td>10308.000000</td>\n      <td>296.00000</td>\n      <td>...</td>\n      <td>6936.000000</td>\n      <td>32400</td>\n      <td>110.000000</td>\n      <td>7200</td>\n      <td>3673.00000</td>\n      <td>2914.000000</td>\n      <td>1474.000000</td>\n      <td>4056.000000</td>\n      <td>938.000000</td>\n      <td>23697.000000</td>\n    </tr>\n  </tbody>\n</table>\n<p>4 rows × 25 columns</p>\n</div>"
     },
     "execution_count": 8,
     "metadata": {},
     "output_type": "execute_result"
    }
   ],
   "source": [
    "all_df.dropna(axis=1, inplace=True)\n",
    "all_df.describe(include='all')"
   ],
   "metadata": {
    "collapsed": false,
    "ExecuteTime": {
     "end_time": "2023-10-19T14:48:10.210953175Z",
     "start_time": "2023-10-19T14:48:09.848781148Z"
    }
   },
   "id": "fc9eef0e464f8490"
  },
  {
   "cell_type": "code",
   "execution_count": 9,
   "outputs": [
    {
     "data": {
      "text/plain": "                      t_stamp   LIT101.Pv FIT101.Pv FIT201.Pv  AIT201.Pv  \\\n0         2020-06-22 10:00:00    695.2841       0.0  0.000256  18.072288   \n1         2020-06-22 10:00:01    695.1271       0.0  0.000256  18.104332   \n2  2020-06-22 10:00:02.005000  694.930847       0.0  0.000256  18.104332   \n3  2020-06-22 10:00:03.010000  694.930847       0.0  0.000256  18.104332   \n4  2020-06-22 10:00:04.015000    694.8523       0.0  0.000256  18.104332   \n\n  AIT202.Pv   AIT203.Pv   LIT301.Pv FIT301.Pv LIT401.Pv  ... FIT503.Pv  \\\n0  7.519418  135.708786  1006.75311  0.000641  632.1841  ...  0.116122   \n1  7.514612  135.708786  1006.75311  0.000641   631.838  ...  0.116122   \n2  7.508844  135.708786  1006.75311  0.000641  631.6842  ...  0.116122   \n3  7.504678  135.708786  1006.75311  0.000641  631.6073  ...  0.116122   \n4  7.498911  135.708786  1006.75311  0.000641  631.2997  ...  0.116122   \n\n  FIT504.Pv AIT501.Pv   AIT502.Pv AIT503.Pv AIT504.Pv   PIT501.Pv PIT502.Pv  \\\n0         0  7.615548    149.6283  46.91105  1.845681  232.376312   2.01839   \n1         0  7.612343    149.6283  46.91105  1.845681  232.376312   2.01839   \n2         0  7.612343    149.6283  46.91105  1.845681  232.376312   2.01839   \n3         0  7.612343  149.525757  46.91105  1.845681  232.376312   2.01839   \n4         0  7.611382  149.525757  46.91105  1.845681  232.376312   2.01839   \n\n  PIT503.Pv FIT601.Pv  \n0  206.9982  0.000256  \n1  206.9982  0.000256  \n2  206.9982  0.000256  \n3  206.9982  0.000256  \n4  206.9982  0.000256  \n\n[5 rows x 25 columns]",
      "text/html": "<div>\n<style scoped>\n    .dataframe tbody tr th:only-of-type {\n        vertical-align: middle;\n    }\n\n    .dataframe tbody tr th {\n        vertical-align: top;\n    }\n\n    .dataframe thead th {\n        text-align: right;\n    }\n</style>\n<table border=\"1\" class=\"dataframe\">\n  <thead>\n    <tr style=\"text-align: right;\">\n      <th></th>\n      <th>t_stamp</th>\n      <th>LIT101.Pv</th>\n      <th>FIT101.Pv</th>\n      <th>FIT201.Pv</th>\n      <th>AIT201.Pv</th>\n      <th>AIT202.Pv</th>\n      <th>AIT203.Pv</th>\n      <th>LIT301.Pv</th>\n      <th>FIT301.Pv</th>\n      <th>LIT401.Pv</th>\n      <th>...</th>\n      <th>FIT503.Pv</th>\n      <th>FIT504.Pv</th>\n      <th>AIT501.Pv</th>\n      <th>AIT502.Pv</th>\n      <th>AIT503.Pv</th>\n      <th>AIT504.Pv</th>\n      <th>PIT501.Pv</th>\n      <th>PIT502.Pv</th>\n      <th>PIT503.Pv</th>\n      <th>FIT601.Pv</th>\n    </tr>\n  </thead>\n  <tbody>\n    <tr>\n      <th>0</th>\n      <td>2020-06-22 10:00:00</td>\n      <td>695.2841</td>\n      <td>0.0</td>\n      <td>0.000256</td>\n      <td>18.072288</td>\n      <td>7.519418</td>\n      <td>135.708786</td>\n      <td>1006.75311</td>\n      <td>0.000641</td>\n      <td>632.1841</td>\n      <td>...</td>\n      <td>0.116122</td>\n      <td>0</td>\n      <td>7.615548</td>\n      <td>149.6283</td>\n      <td>46.91105</td>\n      <td>1.845681</td>\n      <td>232.376312</td>\n      <td>2.01839</td>\n      <td>206.9982</td>\n      <td>0.000256</td>\n    </tr>\n    <tr>\n      <th>1</th>\n      <td>2020-06-22 10:00:01</td>\n      <td>695.1271</td>\n      <td>0.0</td>\n      <td>0.000256</td>\n      <td>18.104332</td>\n      <td>7.514612</td>\n      <td>135.708786</td>\n      <td>1006.75311</td>\n      <td>0.000641</td>\n      <td>631.838</td>\n      <td>...</td>\n      <td>0.116122</td>\n      <td>0</td>\n      <td>7.612343</td>\n      <td>149.6283</td>\n      <td>46.91105</td>\n      <td>1.845681</td>\n      <td>232.376312</td>\n      <td>2.01839</td>\n      <td>206.9982</td>\n      <td>0.000256</td>\n    </tr>\n    <tr>\n      <th>2</th>\n      <td>2020-06-22 10:00:02.005000</td>\n      <td>694.930847</td>\n      <td>0.0</td>\n      <td>0.000256</td>\n      <td>18.104332</td>\n      <td>7.508844</td>\n      <td>135.708786</td>\n      <td>1006.75311</td>\n      <td>0.000641</td>\n      <td>631.6842</td>\n      <td>...</td>\n      <td>0.116122</td>\n      <td>0</td>\n      <td>7.612343</td>\n      <td>149.6283</td>\n      <td>46.91105</td>\n      <td>1.845681</td>\n      <td>232.376312</td>\n      <td>2.01839</td>\n      <td>206.9982</td>\n      <td>0.000256</td>\n    </tr>\n    <tr>\n      <th>3</th>\n      <td>2020-06-22 10:00:03.010000</td>\n      <td>694.930847</td>\n      <td>0.0</td>\n      <td>0.000256</td>\n      <td>18.104332</td>\n      <td>7.504678</td>\n      <td>135.708786</td>\n      <td>1006.75311</td>\n      <td>0.000641</td>\n      <td>631.6073</td>\n      <td>...</td>\n      <td>0.116122</td>\n      <td>0</td>\n      <td>7.612343</td>\n      <td>149.525757</td>\n      <td>46.91105</td>\n      <td>1.845681</td>\n      <td>232.376312</td>\n      <td>2.01839</td>\n      <td>206.9982</td>\n      <td>0.000256</td>\n    </tr>\n    <tr>\n      <th>4</th>\n      <td>2020-06-22 10:00:04.015000</td>\n      <td>694.8523</td>\n      <td>0.0</td>\n      <td>0.000256</td>\n      <td>18.104332</td>\n      <td>7.498911</td>\n      <td>135.708786</td>\n      <td>1006.75311</td>\n      <td>0.000641</td>\n      <td>631.2997</td>\n      <td>...</td>\n      <td>0.116122</td>\n      <td>0</td>\n      <td>7.611382</td>\n      <td>149.525757</td>\n      <td>46.91105</td>\n      <td>1.845681</td>\n      <td>232.376312</td>\n      <td>2.01839</td>\n      <td>206.9982</td>\n      <td>0.000256</td>\n    </tr>\n  </tbody>\n</table>\n<p>5 rows × 25 columns</p>\n</div>"
     },
     "execution_count": 9,
     "metadata": {},
     "output_type": "execute_result"
    }
   ],
   "source": [
    "all_df.head()"
   ],
   "metadata": {
    "collapsed": false,
    "ExecuteTime": {
     "end_time": "2023-10-19T14:48:10.214210889Z",
     "start_time": "2023-10-19T14:48:10.146688173Z"
    }
   },
   "id": "3df9efa2e3322c57"
  },
  {
   "cell_type": "code",
   "execution_count": null,
   "outputs": [],
   "source": [
    "if_outliers = get_list_of_if_outliers(all_df, 0.03)\n",
    "print(f'Number of outliers: {len(if_outliers)}')"
   ],
   "metadata": {
    "collapsed": false,
    "is_executing": true,
    "ExecuteTime": {
     "start_time": "2023-10-19T14:48:10.188499131Z"
    }
   },
   "id": "6c976c95d37a2a1b"
  },
  {
   "cell_type": "code",
   "execution_count": null,
   "outputs": [],
   "source": [],
   "metadata": {
    "collapsed": false,
    "is_executing": true
   },
   "id": "c6e5b4197582d042"
  }
 ],
 "metadata": {
  "kernelspec": {
   "display_name": "Python 3",
   "language": "python",
   "name": "python3"
  },
  "language_info": {
   "codemirror_mode": {
    "name": "ipython",
    "version": 2
   },
   "file_extension": ".py",
   "mimetype": "text/x-python",
   "name": "python",
   "nbconvert_exporter": "python",
   "pygments_lexer": "ipython2",
   "version": "2.7.6"
  }
 },
 "nbformat": 4,
 "nbformat_minor": 5
}
