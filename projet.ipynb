{
 "cells": [
  {
   "cell_type": "markdown",
   "id": "e16b0debc0b1e3e8",
   "metadata": {},
   "source": [
    "Auteurs:\n",
    "- Louis PAGNIER\n",
    "- Léo SRON\n",
    "- Anthony BERNARD\n",
    "- Junyi LI\n",
    "- David FRECON\n",
    "\n",
    "# Détection d'anomalies dans le système SWaT (Secure Water Treatment)\n",
    "\n",
    "## Introduction\n",
    "\n",
    "Dans ce notebook, nous allons essayer de prédire les attaques sur le système SWaT à partir des données fournies dans le dataset SWaT.A3 qui répertorie des données du 20 Juillet 2019.   \n",
    "Dans ce jeu de données, 6 attaques ont été réalisées sur le système SWaT à des moments différents de la journée."
   ]
  },
  {
   "cell_type": "markdown",
   "id": "b171fd7ce797fe79",
   "metadata": {},
   "source": [
    "## Import des librairies"
   ]
  },
  {
   "cell_type": "code",
   "execution_count": 1,
   "id": "abb977aa1c5eb654",
   "metadata": {
    "ExecuteTime": {
     "end_time": "2023-11-05T23:08:18.239086Z",
     "start_time": "2023-11-05T23:08:18.236045Z"
    }
   },
   "outputs": [],
   "source": [
    "import pandas as pd\n",
    "import random\n",
    "from mlsecu.anomaly_detection_use_case import *\n",
    "from mlsecu.data_exploration_utils import *\n",
    "from mlsecu.data_preparation_utils import *\n",
    "from sklearn.decomposition import PCA\n",
    "from sklearn.metrics import precision_recall_curve\n",
    "from sklearn.metrics import average_precision_score\n",
    "import rich\n",
    "import re\n",
    "import matplotlib.pyplot as plt"
   ]
  },
  {
   "cell_type": "markdown",
   "id": "adfe7586abe47ee7",
   "metadata": {},
   "source": [
    "## Définition des fonctions\n",
    "\n",
    "Dans un premier temps, nous allons nous concentrer uniquement sur les capteurs du système et laisser de côté les pompes."
   ]
  },
  {
   "cell_type": "code",
   "execution_count": 2,
   "id": "5a00c39ace022b1",
   "metadata": {
    "ExecuteTime": {
     "end_time": "2023-11-05T21:41:49.705433Z",
     "start_time": "2023-11-05T21:41:49.672515Z"
    }
   },
   "outputs": [],
   "source": [
    "sensor_regex = re.compile(r'^(A|F|L|P)IT \\d{3}$')\n",
    "column_regex = re.compile(r'^(.*\\d{3})|(.*_STATE)|(.* Status)|(.* STATE)$')"
   ]
  },
  {
   "cell_type": "code",
   "execution_count": 3,
   "id": "2492555b8f754988",
   "metadata": {
    "ExecuteTime": {
     "end_time": "2023-11-05T17:19:08.564265Z",
     "start_time": "2023-11-05T17:19:08.553680Z"
    }
   },
   "outputs": [],
   "source": [
    "def normalize_df(df):\n",
    "    \"\"\"\n",
    "    Normalize the dataset by using the min-max normalization.\n",
    "    \"\"\"\n",
    "    df_norm = df.copy()\n",
    "    for col in df_norm.columns:\n",
    "        if col not in ['Timestamp', 'Attack', 'Label']:\n",
    "            df_norm[col] = (df_norm[col] - df_norm[col].min()) / (df_norm[col].max() - df_norm[col].min())\n",
    "    return df_norm"
   ]
  },
  {
   "cell_type": "code",
   "execution_count": 4,
   "id": "790b3497444d477c",
   "metadata": {
    "ExecuteTime": {
     "end_time": "2023-11-05T17:19:08.758540Z",
     "start_time": "2023-11-05T17:19:08.756938Z"
    }
   },
   "outputs": [],
   "source": [
    "def load_df(name, only_sensors=True):\n",
    "    \"\"\"\n",
    "    Load the dataset from the excel file.\n",
    "    The parameter only_sensors allows to load only the sensors and not the pumps.\n",
    "    \"\"\"\n",
    "    df = pd.read_excel(name, skiprows=[0, 2])\n",
    "    if only_sensors:\n",
    "        sensor_cols = [col for col in df.columns if sensor_regex.match(col) or col in ['Timestamp', 'Attack', 'Label']]\n",
    "        df = df[sensor_cols]\n",
    "    return df"
   ]
  },
  {
   "cell_type": "code",
   "execution_count": 5,
   "id": "b6c5b105262451e1",
   "metadata": {
    "ExecuteTime": {
     "end_time": "2023-11-05T17:28:31.473881Z",
     "start_time": "2023-11-05T17:28:31.447174Z"
    }
   },
   "outputs": [],
   "source": [
    "def clean_df(df):\n",
    "    \"\"\"\n",
    "    Clean the dataset by removing NaN values and replacing them by the corresponding missing values.\n",
    "    \"\"\"\n",
    "    df['Attack'] = df['Attack'].fillna('benign')\n",
    "    df['Label'] = df['Label'].fillna(0)\n",
    "    df['Label'] = df['Label'].astype(int)\n",
    "    df = df.drop(columns=['AIT 401'])\n",
    "    df = df.dropna(axis=0)\n",
    "    for col in df.columns:\n",
    "        if col in ['Timestamp', 'Attack', 'Label']:\n",
    "            continue\n",
    "        # replace dictionary values\n",
    "        if col[:2] == 'LS':\n",
    "            df[col] = df[col].apply(lambda x: x[-2])\n",
    "            df[col] = df[col].astype(int)\n",
    "        # delete constant columns\n",
    "        if df[col].std() == 0:\n",
    "            df = df.drop(columns=[col])\n",
    "    return df"
   ]
  },
  {
   "cell_type": "code",
   "execution_count": 6,
   "id": "d90115b1df4bd623",
   "metadata": {
    "ExecuteTime": {
     "end_time": "2023-11-05T21:42:17.696084Z",
     "start_time": "2023-11-05T21:42:17.663988Z"
    }
   },
   "outputs": [],
   "source": [
    "def extract_features(df):\n",
    "    \"\"\"\n",
    "    Extract the features from the dataset.\n",
    "    \"\"\"\n",
    "    cols = [col for col in df.columns if column_regex.match(col)]\n",
    "    df_X = df[cols]\n",
    "    return df_X\n",
    "\n",
    "def extract_labels(df, label_col='Label'):\n",
    "    \"\"\"\n",
    "    Extract the labels from the dataset.\n",
    "    \"\"\"\n",
    "    return df[label_col]"
   ]
  },
  {
   "cell_type": "code",
   "execution_count": 7,
   "id": "3545f53e80ed2ff3",
   "metadata": {
    "ExecuteTime": {
     "end_time": "2023-11-05T21:42:19.252936Z",
     "start_time": "2023-11-05T21:42:19.250838Z"
    }
   },
   "outputs": [],
   "source": [
    "def visualize_df(df, outlier_col='Label', title='PCA', targets=[0, 1], colors=['b', 'r']):\n",
    "    \"\"\"\n",
    "    Visualize the dataset by using PCA to reduce the dimensionality.\n",
    "    \"\"\"\n",
    "    df_X = extract_features(df)\n",
    "    df_y = extract_labels(df, outlier_col)\n",
    "    \n",
    "    pca = PCA(n_components=2)\n",
    "    df_X_pca = pca.fit_transform(df_X)\n",
    "    df_X_pca = pd.DataFrame(df_X_pca, columns=['PC1', 'PC2'])\n",
    "    df_X_pca['Label'] = df_y\n",
    "    \n",
    "    fig = plt.figure(figsize=(5, 5))\n",
    "    ax = fig.add_subplot(111)\n",
    "    ax.set_xlabel('PC1')\n",
    "    ax.set_ylabel('PC2')\n",
    "    ax.set_title(title)\n",
    "    for target, color in zip(targets, colors):\n",
    "        indices_to_keep = df_X_pca['Label'] == target\n",
    "        ax.scatter(df_X_pca.loc[indices_to_keep, 'PC1'], df_X_pca.loc[indices_to_keep, 'PC2'], c=color, s=50)\n",
    "    ax.legend(targets)\n",
    "    ax.grid()\n",
    "    plt.show()\n",
    "    "
   ]
  },
  {
   "cell_type": "code",
   "execution_count": 8,
   "id": "ca810e15e7dfd723",
   "metadata": {
    "ExecuteTime": {
     "end_time": "2023-11-05T21:42:19.859774Z",
     "start_time": "2023-11-05T21:42:19.850891Z"
    }
   },
   "outputs": [],
   "source": [
    "def visualize_dfs(dfs, outlier_cols=['Label'], titles=['PCA'], targets=[0, 1], colors=['b', 'r']):\n",
    "    \"\"\"\n",
    "    Visualize multiple datasets in a row by using PCA.\n",
    "    \"\"\"\n",
    "    fig, axs = plt.subplots(1, len(dfs), figsize=(10, 5))\n",
    "    for i, df in enumerate(dfs):\n",
    "        df_X = extract_features(df)\n",
    "        df_y = extract_labels(df, outlier_cols[i])\n",
    "        \n",
    "        pca = PCA(n_components=2)\n",
    "        df_X_pca = pca.fit_transform(df_X)\n",
    "        df_X_pca = pd.DataFrame(df_X_pca, columns=['PC1', 'PC2'])\n",
    "        df_X_pca['Label'] = df_y\n",
    "        \n",
    "        axs[i].set_xlabel('PC1')\n",
    "        axs[i].set_ylabel('PC2')\n",
    "        axs[i].set_title(titles[i])\n",
    "        for target, color in zip(targets, colors):\n",
    "            indices_to_keep = df_X_pca['Label'] == target\n",
    "            axs[i].scatter(df_X_pca.loc[indices_to_keep, 'PC1'], df_X_pca.loc[indices_to_keep, 'PC2'], c=color, s=50)\n",
    "        axs[i].legend(targets)\n",
    "        axs[i].grid()\n",
    "    plt.show()"
   ]
  },
  {
   "cell_type": "code",
   "execution_count": 9,
   "id": "8d43abcd812155de",
   "metadata": {
    "ExecuteTime": {
     "end_time": "2023-11-05T21:42:20.221605Z",
     "start_time": "2023-11-05T21:42:20.218360Z"
    }
   },
   "outputs": [],
   "source": [
    "def get_confusion_matrix(df, prediction_col, label_col):\n",
    "    \"\"\"\n",
    "    Compute the confusion matrix from the dataset.\n",
    "    \"\"\"\n",
    "    TP = df[(df[prediction_col] == 1) & (df[label_col] == 1)].shape[0]\n",
    "    TN = df[(df[prediction_col] == 0) & (df[label_col] == 0)].shape[0]\n",
    "    FP = df[(df[prediction_col] == 1) & (df[label_col] == 0)].shape[0]\n",
    "    FN = df[(df[prediction_col] == 0) & (df[label_col] == 1)].shape[0]\n",
    "    return TP, TN, FP, FN"
   ]
  },
  {
   "cell_type": "code",
   "execution_count": 10,
   "id": "cb653ef0eaae4f27",
   "metadata": {
    "ExecuteTime": {
     "end_time": "2023-11-05T21:42:20.435915Z",
     "start_time": "2023-11-05T21:42:20.433993Z"
    }
   },
   "outputs": [],
   "source": [
    "def compute_accuracy(df, prediction_col, label_col='Label'):\n",
    "    \"\"\"\n",
    "    Compute the accuracy from the dataset.\n",
    "    \"\"\"\n",
    "    TP, TN, FP, FN = get_confusion_matrix(df, prediction_col, label_col)\n",
    "    return (TP + TN) / (TP + TN + FP + FN)\n",
    "\n",
    "def compute_precision(df, prediction_col, label_col='Label'):\n",
    "    \"\"\"\n",
    "    Compute the precision from the dataset.\n",
    "    \"\"\"\n",
    "    TP, TN, FP, FN = get_confusion_matrix(df, prediction_col, label_col)\n",
    "    return TP / (TP + FP)\n",
    "\n",
    "def compute_recall(df, prediction_col, label_col='Label'):\n",
    "    \"\"\"\n",
    "    Compute the recall from the dataset.\n",
    "    \"\"\"\n",
    "    TP, TN, FP, FN = get_confusion_matrix(df, prediction_col, label_col)\n",
    "    return TP / (TP + FN)"
   ]
  },
  {
   "cell_type": "code",
   "execution_count": 11,
   "id": "ac51096d6febc089",
   "metadata": {
    "ExecuteTime": {
     "end_time": "2023-11-05T23:08:02.720778Z",
     "start_time": "2023-11-05T23:08:02.691130Z"
    }
   },
   "outputs": [],
   "source": [
    "def split_by_blocks(X, y, train_attacks=3, approximate_test_size=0.2, block_size=10*60, random_state=42):\n",
    "    random.seed(random_state)\n",
    "    \n",
    "    n_rows = len(df)\n",
    "    attacks = []\n",
    "    benign = []\n",
    "    attack_id = -1\n",
    "    for i in range(0, n_rows):\n",
    "        if y[i]:\n",
    "            if i > 0 and y[i] != y[i-1]:\n",
    "                attack_id += 1\n",
    "                attacks.append([])\n",
    "            attacks[attack_id].append(i)\n",
    "        else:\n",
    "            benign.append(i)\n",
    "        \n",
    "    random.shuffle(attacks)\n",
    "    \n",
    "    print(len(attacks), 'attacks detected')\n",
    "        \n",
    "    train_indices = []\n",
    "    test_indices = []\n",
    "    \n",
    "    for i, attack in enumerate(attacks):\n",
    "        if i < train_attacks:\n",
    "            train_indices += attack\n",
    "        else:\n",
    "            test_indices += attack\n",
    "            \n",
    "    benign_blocks = []\n",
    "    for i in range(0, len(benign), block_size):\n",
    "        benign_blocks.append(benign[i:i+block_size])\n",
    "        \n",
    "    random.shuffle(benign_blocks)\n",
    "    \n",
    "    upper_bound = int(approximate_test_size * len(benign_blocks))\n",
    "    for i, benign_block in enumerate(benign_blocks):\n",
    "        if i < upper_bound:\n",
    "            train_indices += benign_block\n",
    "        else:\n",
    "            test_indices += benign_block\n",
    "            \n",
    "    random.shuffle(train_indices)\n",
    "    random.shuffle(test_indices)\n",
    "    \n",
    "    X_train = X.iloc[train_indices]\n",
    "    y_train = y.iloc[train_indices]\n",
    "    X_test = X.iloc[test_indices]\n",
    "    y_test = y.iloc[test_indices]\n",
    "    \n",
    "    return X_train, X_test, y_train, y_test\n",
    "    "
   ]
  },
  {
   "cell_type": "code",
   "execution_count": 12,
   "id": "b685fd03014396a2",
   "metadata": {
    "ExecuteTime": {
     "end_time": "2023-11-05T22:46:28.275648Z",
     "start_time": "2023-11-05T22:46:28.263412Z"
    }
   },
   "outputs": [],
   "source": [
    "def evaluate(df, prediction_col, label_col='Label', scores=None, verbose=True):\n",
    "    \"\"\"\n",
    "    Evaluate the model\n",
    "    \"\"\"\n",
    "    TP, TN, FP, FN = get_confusion_matrix(df, prediction_col, label_col)\n",
    "    accuracy = (TP + TN) / (TP + TN + FP + FN)\n",
    "    precision = TP / (TP + FP)\n",
    "    recall = TP / (TP + FN)\n",
    "    auprc = average_precision_score(df[label_col], scores) if scores is not None else None\n",
    "    matthews = (TP * TN - FP * FN) / (((TP + FP) * (TP + FN) * (TN + FP) * (TN + FN)) ** 0.5)\n",
    "    if verbose:\n",
    "        print('Accuracy: {:.2f}'.format(accuracy))\n",
    "        print('Precision: {:.2f}'.format(precision))\n",
    "        print('Recall: {:.2f}'.format(recall))\n",
    "        if auprc is not None:\n",
    "            print('AUPRC: {:.2f}'.format(auprc))\n",
    "        print('Matthews: {:.2f}'.format(matthews))\n",
    "    return accuracy, precision, recall, auprc, matthews"
   ]
  },
  {
   "cell_type": "code",
   "execution_count": 13,
   "id": "f315e7a74c9626b0",
   "metadata": {
    "ExecuteTime": {
     "end_time": "2023-11-05T22:46:28.747331Z",
     "start_time": "2023-11-05T22:46:28.741406Z"
    }
   },
   "outputs": [],
   "source": [
    "def predict_if(df, rate=0.17):\n",
    "    # Remove extra columns (These columns must not be used for the detection of outliers)\n",
    "    df_if = extract_features(df).copy()\n",
    "    _if = IsolationForest(contamination=rate, random_state=42)\n",
    "    _if.fit(df_if)\n",
    "    if_scores = _if.score_samples(df_if)\n",
    "    df_if['if_outliers'] = _if.predict(df_if)\n",
    "    df_if['if_outliers'] = df_if['if_outliers'].map({1: 0, -1: 1})\n",
    "    # restore extra columns\n",
    "    df_if['Timestamp'] = df['Timestamp']\n",
    "    df_if['Attack'] = df['Attack']\n",
    "    df_if['Label'] = df['Label']\n",
    "    \n",
    "    return df_if, if_scores"
   ]
  },
  {
   "cell_type": "code",
   "execution_count": 14,
   "id": "cea96f8d",
   "metadata": {},
   "outputs": [],
   "source": [
    "def calculate_rms(df):\n",
    "    \"\"\"\n",
    "    Calculate the Root Mean Square (RMS) for each column in the DataFrame, excluding 'Timestamp', 'Attack', and 'Label'.\n",
    "    \"\"\"\n",
    "    rms = df.drop(columns=['Timestamp', 'Attack', 'Label']).apply(lambda x: np.sqrt(np.mean(np.square(x))))\n",
    "    return rms"
   ]
  },
  {
   "cell_type": "code",
   "execution_count": 15,
   "id": "2289f8b5",
   "metadata": {},
   "outputs": [],
   "source": [
    "def diff_df(df):\n",
    "    \"\"\"\n",
    "    Replace the values of the dataframe by the difference with the previous value.\n",
    "    \"\"\"\n",
    "    df_diff = df.copy()\n",
    "    for col in df_diff.columns:\n",
    "        if col not in ['Timestamp', 'Attack', 'Label']:\n",
    "            df_diff[col] = df_diff[col].diff()\n",
    "    df_diff = df_diff.dropna()\n",
    "    return df_diff"
   ]
  },
  {
   "cell_type": "markdown",
   "id": "1bdace2961f4346c",
   "metadata": {},
   "source": [
    "## Chargement des données\n",
    "\n",
    "Avant de commencer, nous allons charger les données du dataset SWaT.A3."
   ]
  },
  {
   "cell_type": "code",
   "execution_count": 16,
   "id": "ad21d6efc038ae83",
   "metadata": {
    "ExecuteTime": {
     "end_time": "2023-11-05T22:46:41.299789Z",
     "start_time": "2023-11-05T22:46:34.936324Z"
    }
   },
   "outputs": [
    {
     "data": {
      "text/html": [
       "<div>\n",
       "<style scoped>\n",
       "    .dataframe tbody tr th:only-of-type {\n",
       "        vertical-align: middle;\n",
       "    }\n",
       "\n",
       "    .dataframe tbody tr th {\n",
       "        vertical-align: top;\n",
       "    }\n",
       "\n",
       "    .dataframe thead th {\n",
       "        text-align: right;\n",
       "    }\n",
       "</style>\n",
       "<table border=\"1\" class=\"dataframe\">\n",
       "  <thead>\n",
       "    <tr style=\"text-align: right;\">\n",
       "      <th></th>\n",
       "      <th>Timestamp</th>\n",
       "      <th>Attack</th>\n",
       "      <th>Label</th>\n",
       "      <th>FIT 101</th>\n",
       "      <th>LIT 101</th>\n",
       "      <th>MV 101</th>\n",
       "      <th>P1_STATE</th>\n",
       "      <th>P101 Status</th>\n",
       "      <th>AIT 201</th>\n",
       "      <th>AIT 202</th>\n",
       "      <th>...</th>\n",
       "      <th>FIT 502</th>\n",
       "      <th>FIT 503</th>\n",
       "      <th>FIT 504</th>\n",
       "      <th>MV 501</th>\n",
       "      <th>PIT 501</th>\n",
       "      <th>PIT 502</th>\n",
       "      <th>PIT 503</th>\n",
       "      <th>FIT 601</th>\n",
       "      <th>LSH 601</th>\n",
       "      <th>P601 Status</th>\n",
       "    </tr>\n",
       "  </thead>\n",
       "  <tbody>\n",
       "    <tr>\n",
       "      <th>0</th>\n",
       "      <td>2019-07-20T04:30:00Z</td>\n",
       "      <td>benign</td>\n",
       "      <td>0</td>\n",
       "      <td>0.0</td>\n",
       "      <td>0.714823</td>\n",
       "      <td>0.5</td>\n",
       "      <td>1.0</td>\n",
       "      <td>1.0</td>\n",
       "      <td>0.869776</td>\n",
       "      <td>0.726909</td>\n",
       "      <td>...</td>\n",
       "      <td>0.600898</td>\n",
       "      <td>0.217869</td>\n",
       "      <td>0.198020</td>\n",
       "      <td>1.0</td>\n",
       "      <td>0.155526</td>\n",
       "      <td>0.002699</td>\n",
       "      <td>0.140332</td>\n",
       "      <td>0.002333</td>\n",
       "      <td>1.0</td>\n",
       "      <td>0.0</td>\n",
       "    </tr>\n",
       "    <tr>\n",
       "      <th>1</th>\n",
       "      <td>2019-07-20T04:30:01Z</td>\n",
       "      <td>benign</td>\n",
       "      <td>0</td>\n",
       "      <td>0.0</td>\n",
       "      <td>0.713530</td>\n",
       "      <td>0.5</td>\n",
       "      <td>1.0</td>\n",
       "      <td>1.0</td>\n",
       "      <td>0.869776</td>\n",
       "      <td>0.726909</td>\n",
       "      <td>...</td>\n",
       "      <td>0.610127</td>\n",
       "      <td>0.217869</td>\n",
       "      <td>0.192244</td>\n",
       "      <td>1.0</td>\n",
       "      <td>0.155526</td>\n",
       "      <td>0.002699</td>\n",
       "      <td>0.140332</td>\n",
       "      <td>0.002333</td>\n",
       "      <td>1.0</td>\n",
       "      <td>0.0</td>\n",
       "    </tr>\n",
       "    <tr>\n",
       "      <th>2</th>\n",
       "      <td>2019-07-20T04:30:02.004013Z</td>\n",
       "      <td>benign</td>\n",
       "      <td>0</td>\n",
       "      <td>0.0</td>\n",
       "      <td>0.712590</td>\n",
       "      <td>0.5</td>\n",
       "      <td>1.0</td>\n",
       "      <td>1.0</td>\n",
       "      <td>0.869776</td>\n",
       "      <td>0.726909</td>\n",
       "      <td>...</td>\n",
       "      <td>0.613869</td>\n",
       "      <td>0.217869</td>\n",
       "      <td>0.192244</td>\n",
       "      <td>1.0</td>\n",
       "      <td>0.155526</td>\n",
       "      <td>0.002699</td>\n",
       "      <td>0.140332</td>\n",
       "      <td>0.002333</td>\n",
       "      <td>1.0</td>\n",
       "      <td>0.0</td>\n",
       "    </tr>\n",
       "    <tr>\n",
       "      <th>3</th>\n",
       "      <td>2019-07-20T04:30:03.004013Z</td>\n",
       "      <td>benign</td>\n",
       "      <td>0</td>\n",
       "      <td>0.0</td>\n",
       "      <td>0.711297</td>\n",
       "      <td>0.5</td>\n",
       "      <td>1.0</td>\n",
       "      <td>1.0</td>\n",
       "      <td>0.869776</td>\n",
       "      <td>0.721581</td>\n",
       "      <td>...</td>\n",
       "      <td>0.596408</td>\n",
       "      <td>0.217869</td>\n",
       "      <td>0.189769</td>\n",
       "      <td>1.0</td>\n",
       "      <td>0.155526</td>\n",
       "      <td>0.002699</td>\n",
       "      <td>0.140332</td>\n",
       "      <td>0.002333</td>\n",
       "      <td>1.0</td>\n",
       "      <td>0.0</td>\n",
       "    </tr>\n",
       "    <tr>\n",
       "      <th>4</th>\n",
       "      <td>2019-07-20T04:30:04Z</td>\n",
       "      <td>benign</td>\n",
       "      <td>0</td>\n",
       "      <td>0.0</td>\n",
       "      <td>0.708358</td>\n",
       "      <td>0.5</td>\n",
       "      <td>1.0</td>\n",
       "      <td>1.0</td>\n",
       "      <td>0.869776</td>\n",
       "      <td>0.721581</td>\n",
       "      <td>...</td>\n",
       "      <td>0.587428</td>\n",
       "      <td>0.217869</td>\n",
       "      <td>0.205446</td>\n",
       "      <td>1.0</td>\n",
       "      <td>0.155526</td>\n",
       "      <td>0.002699</td>\n",
       "      <td>0.140332</td>\n",
       "      <td>0.002333</td>\n",
       "      <td>1.0</td>\n",
       "      <td>0.0</td>\n",
       "    </tr>\n",
       "  </tbody>\n",
       "</table>\n",
       "<p>5 rows × 47 columns</p>\n",
       "</div>"
      ],
      "text/plain": [
       "                     Timestamp  Attack  Label  FIT 101   LIT 101  MV 101  \\\n",
       "0         2019-07-20T04:30:00Z  benign      0      0.0  0.714823     0.5   \n",
       "1         2019-07-20T04:30:01Z  benign      0      0.0  0.713530     0.5   \n",
       "2  2019-07-20T04:30:02.004013Z  benign      0      0.0  0.712590     0.5   \n",
       "3  2019-07-20T04:30:03.004013Z  benign      0      0.0  0.711297     0.5   \n",
       "4         2019-07-20T04:30:04Z  benign      0      0.0  0.708358     0.5   \n",
       "\n",
       "   P1_STATE  P101 Status   AIT 201   AIT 202  ...   FIT 502   FIT 503  \\\n",
       "0       1.0          1.0  0.869776  0.726909  ...  0.600898  0.217869   \n",
       "1       1.0          1.0  0.869776  0.726909  ...  0.610127  0.217869   \n",
       "2       1.0          1.0  0.869776  0.726909  ...  0.613869  0.217869   \n",
       "3       1.0          1.0  0.869776  0.721581  ...  0.596408  0.217869   \n",
       "4       1.0          1.0  0.869776  0.721581  ...  0.587428  0.217869   \n",
       "\n",
       "    FIT 504  MV 501   PIT 501   PIT 502   PIT 503   FIT 601  LSH 601  \\\n",
       "0  0.198020     1.0  0.155526  0.002699  0.140332  0.002333      1.0   \n",
       "1  0.192244     1.0  0.155526  0.002699  0.140332  0.002333      1.0   \n",
       "2  0.192244     1.0  0.155526  0.002699  0.140332  0.002333      1.0   \n",
       "3  0.189769     1.0  0.155526  0.002699  0.140332  0.002333      1.0   \n",
       "4  0.205446     1.0  0.155526  0.002699  0.140332  0.002333      1.0   \n",
       "\n",
       "   P601 Status  \n",
       "0          0.0  \n",
       "1          0.0  \n",
       "2          0.0  \n",
       "3          0.0  \n",
       "4          0.0  \n",
       "\n",
       "[5 rows x 47 columns]"
      ]
     },
     "execution_count": 16,
     "metadata": {},
     "output_type": "execute_result"
    }
   ],
   "source": [
    "df = load_df('data/SWaT.A3_dataset_Jul 19_labelled.xlsx', only_sensors=False)\n",
    "df = clean_df(df)\n",
    "df = normalize_df(df)\n",
    "df.head()"
   ]
  },
  {
   "cell_type": "code",
   "execution_count": 17,
   "id": "2f6195cf5881661",
   "metadata": {
    "ExecuteTime": {
     "end_time": "2023-11-05T22:46:43.543943Z",
     "start_time": "2023-11-05T22:46:41.298048Z"
    }
   },
   "outputs": [
    {
     "data": {
      "image/png": "[encoded data removed]",
      "text/plain": [
       "<Figure size 360x360 with 1 Axes>"
      ]
     },
     "metadata": {
      "needs_background": "light"
     },
     "output_type": "display_data"
    }
   ],
   "source": [
    "visualize_df(df, title='Attacks')"
   ]
  },
  {
   "cell_type": "code",
   "execution_count": 18,
   "id": "facf09246b81d41f",
   "metadata": {
    "ExecuteTime": {
     "end_time": "2023-11-05T22:46:45.631645Z",
     "start_time": "2023-11-05T22:46:43.545631Z"
    }
   },
   "outputs": [
    {
     "data": {
      "image/png": "[encoded data removed]",
      "text/plain": [
       "<Figure size 360x360 with 1 Axes>"
      ]
     },
     "metadata": {
      "needs_background": "light"
     },
     "output_type": "display_data"
    }
   ],
   "source": [
    "visualize_df(df, title='Attacks', outlier_col='Attack', targets=['benign', 'Spoofing', 'Switch_ON', 'Switch_close', 'Switch_off'], colors=['b', 'r', 'g', 'y', 'm'])"
   ]
  },
  {
   "cell_type": "code",
   "execution_count": 19,
   "id": "1d861387165fd89d",
   "metadata": {
    "ExecuteTime": {
     "end_time": "2023-11-05T22:46:45.636275Z",
     "start_time": "2023-11-05T22:46:45.633299Z"
    }
   },
   "outputs": [
    {
     "name": "stdout",
     "output_type": "stream",
     "text": [
      "proportion d'attaques dans le dataset: 0.17024539877300612\n"
     ]
    }
   ],
   "source": [
    "print(\"proportion d'attaques dans le dataset:\", len(df.loc[df.Label == 1]) / len(df))"
   ]
  },
  {
   "cell_type": "markdown",
   "id": "bee90c30e9ac5c5d",
   "metadata": {},
   "source": [
    "## Détection d'anomalies\n",
    "\n",
    "Nous allons désormais utiliser les fonctions définies précédemment pour détecter les anomalies dans le dataset.\n",
    "\n",
    "### Isolation Forest\n",
    "\n",
    "La première méthode que nous allons utiliser pour déterminer les outliers est Isolation Forest. Cette méthode est basée sur la construction d'arbres de décision aléatoires. Elle permet de déterminer les outliers en fonction du nombre de splits nécessaires pour isoler un point. Plus le nombre de splits est faible, plus le point est considéré comme un outlier."
   ]
  },
  {
   "cell_type": "code",
   "execution_count": 20,
   "id": "641211dae8c410df",
   "metadata": {
    "ExecuteTime": {
     "end_time": "2023-11-05T22:46:45.803481Z",
     "start_time": "2023-11-05T22:46:45.638750Z"
    }
   },
   "outputs": [],
   "source": [
    "# Remove extra columns (These columns must not be used for the detection of outliers)\n",
    "df_if, if_scores = predict_if(df, rate=0.15)"
   ]
  },
  {
   "cell_type": "code",
   "execution_count": 21,
   "id": "e9b14d95afbd8726",
   "metadata": {
    "ExecuteTime": {
     "end_time": "2023-11-05T22:46:49.844398Z",
     "start_time": "2023-11-05T22:46:45.810137Z"
    }
   },
   "outputs": [
    {
     "data": {
      "image/png": "[encoded data removed]",
      "text/plain": [
       "<Figure size 720x360 with 2 Axes>"
      ]
     },
     "metadata": {
      "needs_background": "light"
     },
     "output_type": "display_data"
    }
   ],
   "source": [
    "visualize_dfs([df, df_if], ['Label', 'if_outliers'], titles=['Attacks', 'Isolation Forest'])"
   ]
  },
  {
   "cell_type": "code",
   "execution_count": 22,
   "id": "d3886d92301d19bb",
   "metadata": {
    "ExecuteTime": {
     "end_time": "2023-11-05T22:46:49.852241Z",
     "start_time": "2023-11-05T22:46:49.845326Z"
    }
   },
   "outputs": [
    {
     "name": "stdout",
     "output_type": "stream",
     "text": [
      "Accuracy: 0.79\n",
      "Precision: 0.37\n",
      "Recall: 0.33\n",
      "AUPRC: 0.11\n",
      "Matthews: 0.23\n"
     ]
    }
   ],
   "source": [
    "_ = evaluate(df_if, 'if_outliers', scores=if_scores)"
   ]
  },
  {
   "cell_type": "markdown",
   "id": "42ef89612b1691d5",
   "metadata": {},
   "source": [
    "On peut voir que la méthode Isolation Forest permet de détecter les anomalies avec une accuracy de 0.82, une precision de 0.32 et un recall de 0.06.  \n",
    "Ces résultats sont assez mauvais. Dans notre cas, la métrique la plus importante est le recall car elle indique le nombre d'attaques détectées par rapport au nombre d'attaques réelles."
   ]
  },
  {
   "cell_type": "markdown",
   "id": "702d9f3b",
   "metadata": {},
   "source": [
    "# Etudes des données"
   ]
  },
  {
   "cell_type": "code",
   "execution_count": 23,
   "id": "92839ba2",
   "metadata": {
    "ExecuteTime": {
     "end_time": "2023-11-05T22:46:49.857514Z",
     "start_time": "2023-11-05T22:46:49.853893Z"
    }
   },
   "outputs": [
    {
     "name": "stdout",
     "output_type": "stream",
     "text": [
      "La taille du dataset est 14996\n",
      "Les types d'attaque sont ['benign' 'Spoofing' 'Switch_ON' 'Switch_close' 'Switch_off']\n",
      "Le nombre d'attaques 'non-bénigne' est 2553\n"
     ]
    }
   ],
   "source": [
    "print(\"La taille du dataset est\", len(df))\n",
    "\n",
    "attack_labels = df['Attack'].unique()\n",
    "\n",
    "# Print the unique attack labels\n",
    "print(\"Les types d'attaque sont\", attack_labels)\n",
    "print (\"Le nombre d'attaques 'non-bénigne' est\", len(df.loc[df.Label == 1]))"
   ]
  },
  {
   "cell_type": "markdown",
   "id": "5ae7e5bf",
   "metadata": {},
   "source": [
    "5 types d'attaque:\n",
    "\n",
    "-benign: Attaque bénigne, labelisée 0;\n",
    "\n",
    "-Spoofing: Attque impliquant une usurpation d'identité, labélisée 1;\n",
    "\n",
    "-Switch_ON:\n",
    "\n",
    "-Switch_close:\n",
    "\n",
    "-Switch_off:"
   ]
  },
  {
   "cell_type": "code",
   "execution_count": 24,
   "id": "a83b04cd",
   "metadata": {
    "ExecuteTime": {
     "end_time": "2023-11-05T22:46:51.171788Z",
     "start_time": "2023-11-05T22:46:51.016549Z"
    }
   },
   "outputs": [
    {
     "data": {
      "text/plain": [
       "<matplotlib.image.AxesImage at 0x2c7aa7cc5e0>"
      ]
     },
     "execution_count": 24,
     "metadata": {},
     "output_type": "execute_result"
    },
    {
     "data": {
      "image/png": "[encoded data removed]",
      "text/plain": [
       "<Figure size 288x288 with 1 Axes>"
      ]
     },
     "metadata": {
      "needs_background": "light"
     },
     "output_type": "display_data"
    }
   ],
   "source": [
    "df_feat = extract_features(df).copy()\n",
    "corr_matrix = df_feat.corr()\n",
    "\n",
    "# Print the correlation matrix\n",
    "corr_matrix.style.background_gradient(cmap='coolwarm')\n",
    "plt.matshow(corr_matrix)"
   ]
  },
  {
   "cell_type": "markdown",
   "id": "502117c3",
   "metadata": {},
   "source": [
    "Correlation élevée entre features FIT 501\tFIT 502\tFIT 503\tFIT 504\tPIT 501\tPIT 502\tPIT 503"
   ]
  },
  {
   "cell_type": "code",
   "execution_count": 25,
   "id": "17a645ac",
   "metadata": {
    "ExecuteTime": {
     "end_time": "2023-11-05T22:46:53.848204Z",
     "start_time": "2023-11-05T22:46:53.832327Z"
    }
   },
   "outputs": [
    {
     "name": "stdout",
     "output_type": "stream",
     "text": [
      "Label          0.000000\n",
      "FIT 101        0.000000\n",
      "LIT 101       -0.001740\n",
      "MV 101         0.000000\n",
      "P1_STATE       0.000000\n",
      "P101 Status    0.000000\n",
      "AIT 201       -0.001286\n",
      "AIT 202       -0.108577\n",
      "AIT 203       -0.033475\n",
      "FIT 201       -0.000042\n",
      "MV201          0.000000\n",
      "P203 Status    0.000000\n",
      "P205 Status    0.000000\n",
      "AIT 301       -0.005744\n",
      "AIT 302       -0.335001\n",
      "AIT 303        0.051427\n",
      "DPIT 301       0.616671\n",
      "FIT 301        0.356878\n",
      "LIT 301        0.024642\n",
      "MV 301         0.000000\n",
      "MV 302         0.462099\n",
      "MV 303         0.000000\n",
      "MV 304        -0.354592\n",
      "P3_STATE       0.031792\n",
      "P301 Status    0.125000\n",
      "AIT 402       -0.006175\n",
      "FIT 401        0.643607\n",
      "LIT 401        0.218727\n",
      "P401 Status   -0.002915\n",
      "UV401          0.763848\n",
      "AIT 501        0.005288\n",
      "AIT 502        0.018888\n",
      "AIT 503       -0.139441\n",
      "AIT 504        0.001845\n",
      "FIT 501       -0.000230\n",
      "FIT 502        0.007311\n",
      "FIT 503       -0.000929\n",
      "FIT 504       -0.001606\n",
      "MV 501         0.000000\n",
      "PIT 501        0.000680\n",
      "PIT 502       -0.000079\n",
      "PIT 503       -0.000198\n",
      "FIT 601       -0.000172\n",
      "LSH 601        0.000000\n",
      "P601 Status    0.000000\n",
      "dtype: float64\n"
     ]
    }
   ],
   "source": [
    "spoof_attacks = df[df['Attack'] == 'Spoofing']\n",
    "avg_sensor_readings_before_spoof = spoof_attacks.iloc[:24, 1:].mean(numeric_only=True)\n",
    "avg_sensor_readings_after_spoof = spoof_attacks.iloc[24:, 1:].mean(numeric_only=True)\n",
    "change_in_avg_sensor_readings = avg_sensor_readings_after_spoof - avg_sensor_readings_before_spoof\n",
    "print(change_in_avg_sensor_readings)"
   ]
  },
  {
   "cell_type": "markdown",
   "id": "7733b848",
   "metadata": {},
   "source": [
    "Le sensor LIT 401 réagit aux attaques de spoofing."
   ]
  },
  {
   "cell_type": "code",
   "execution_count": 26,
   "id": "4892c50c",
   "metadata": {
    "ExecuteTime": {
     "end_time": "2023-11-05T22:47:03.426812Z",
     "start_time": "2023-11-05T22:47:03.393178Z"
    }
   },
   "outputs": [
    {
     "name": "stdout",
     "output_type": "stream",
     "text": [
      "Label          0.000000\n",
      "FIT 101        0.496098\n",
      "LIT 101       -0.126791\n",
      "MV 101         0.217988\n",
      "P1_STATE       0.000000\n",
      "P101 Status    0.000000\n",
      "AIT 201       -0.631972\n",
      "AIT 202       -0.194200\n",
      "AIT 203       -0.001115\n",
      "FIT 201       -0.013920\n",
      "MV201          0.000000\n",
      "P203 Status   -0.018293\n",
      "P205 Status   -0.018293\n",
      "AIT 301        0.007977\n",
      "AIT 302        0.240888\n",
      "AIT 303       -0.045009\n",
      "DPIT 301      -0.640465\n",
      "FIT 301       -0.632642\n",
      "LIT 301        0.452214\n",
      "MV 301         0.000000\n",
      "MV 302        -0.344512\n",
      "MV 303         0.000000\n",
      "MV 304         0.000000\n",
      "P3_STATE       0.654953\n",
      "P301 Status   -0.690549\n",
      "AIT 402       -0.013356\n",
      "FIT 401        0.003883\n",
      "LIT 401       -0.166852\n",
      "P401 Status    0.000000\n",
      "UV401          0.000000\n",
      "AIT 501       -0.001049\n",
      "AIT 502       -0.013213\n",
      "AIT 503       -0.091328\n",
      "AIT 504        0.004113\n",
      "FIT 501        0.001735\n",
      "FIT 502        0.003527\n",
      "FIT 503       -0.003053\n",
      "FIT 504       -0.000491\n",
      "MV 501         0.000000\n",
      "PIT 501       -0.002491\n",
      "PIT 502        0.000151\n",
      "PIT 503       -0.000981\n",
      "FIT 601       -0.000046\n",
      "LSH 601       -0.961890\n",
      "P601 Status   -0.685976\n",
      "dtype: float64\n"
     ]
    }
   ],
   "source": [
    "on_attacks = df[df['Attack'] == 'Switch_ON']\n",
    "avg_sensor_readings_before_on = on_attacks.iloc[:24, 1:].mean(numeric_only=True)\n",
    "avg_sensor_readings_after_on = on_attacks.iloc[24:, 1:].mean(numeric_only=True)\n",
    "change_in_avg_sensor_readings = avg_sensor_readings_after_on - avg_sensor_readings_before_on\n",
    "print(change_in_avg_sensor_readings)"
   ]
  },
  {
   "cell_type": "markdown",
   "id": "d4b3ddd4",
   "metadata": {},
   "source": [
    "Le sensor LIT 301 réagit aux attaques de type switch_on."
   ]
  },
  {
   "cell_type": "code",
   "execution_count": 27,
   "id": "84767f59",
   "metadata": {
    "ExecuteTime": {
     "end_time": "2023-11-05T22:47:05.740471Z",
     "start_time": "2023-11-05T22:47:05.696993Z"
    }
   },
   "outputs": [
    {
     "name": "stdout",
     "output_type": "stream",
     "text": [
      "Label          0.000000\n",
      "FIT 101        0.000000\n",
      "LIT 101       -0.001081\n",
      "MV 101         0.000000\n",
      "P1_STATE       0.000000\n",
      "P101 Status    0.000000\n",
      "AIT 201        0.000975\n",
      "AIT 202       -0.192117\n",
      "AIT 203       -0.063567\n",
      "FIT 201        0.000028\n",
      "MV201          0.000000\n",
      "P203 Status    0.000000\n",
      "P205 Status    0.000000\n",
      "AIT 301        0.018448\n",
      "AIT 302        0.197854\n",
      "AIT 303        0.019823\n",
      "DPIT 301       0.034671\n",
      "FIT 301        0.003380\n",
      "LIT 301       -0.080635\n",
      "MV 301        -0.004484\n",
      "MV 302        -0.033632\n",
      "MV 303         0.020553\n",
      "MV 304         0.013827\n",
      "P3_STATE       0.004608\n",
      "P301 Status    0.325859\n",
      "AIT 402        0.002769\n",
      "FIT 401       -0.000864\n",
      "LIT 401       -0.286237\n",
      "P401 Status    0.000000\n",
      "UV401          0.000000\n",
      "AIT 501        0.008790\n",
      "AIT 502        0.002415\n",
      "AIT 503       -0.013576\n",
      "AIT 504        0.013135\n",
      "FIT 501        0.001780\n",
      "FIT 502       -0.007835\n",
      "FIT 503       -0.000899\n",
      "FIT 504        0.004002\n",
      "MV 501         0.000000\n",
      "PIT 501       -0.003643\n",
      "PIT 502       -0.000306\n",
      "PIT 503       -0.002585\n",
      "FIT 601        0.008376\n",
      "LSH 601        0.000000\n",
      "P601 Status    0.000000\n",
      "dtype: float64\n"
     ]
    }
   ],
   "source": [
    "off_attacks = df[df['Attack'] == 'Switch_off']\n",
    "avg_sensor_readings_before_off = off_attacks.iloc[:24, 1:].mean(numeric_only=True)\n",
    "avg_sensor_readings_after_off = off_attacks.iloc[24:, 1:].mean(numeric_only=True)\n",
    "change_in_avg_sensor_readings = avg_sensor_readings_after_off - avg_sensor_readings_before_off\n",
    "print(change_in_avg_sensor_readings)"
   ]
  },
  {
   "cell_type": "markdown",
   "id": "b3b72b28",
   "metadata": {},
   "source": [
    "Le sensor LIT 401 réagit aux attaques de type switch_off."
   ]
  },
  {
   "cell_type": "code",
   "execution_count": 28,
   "id": "6f08d0a1",
   "metadata": {},
   "outputs": [
    {
     "data": {
      "text/plain": [
       "FIT 101        0.407550\n",
       "LIT 101        0.799414\n",
       "MV 101         0.609179\n",
       "P1_STATE       0.248227\n",
       "P101 Status    0.611691\n",
       "AIT 201        0.796202\n",
       "AIT 202        0.658634\n",
       "AIT 203        0.691064\n",
       "FIT 201        0.605817\n",
       "MV201          0.728211\n",
       "P203 Status    0.608303\n",
       "P205 Status    0.608303\n",
       "AIT 301        0.705010\n",
       "AIT 302        0.670886\n",
       "AIT 303        0.436052\n",
       "DPIT 301       0.657200\n",
       "FIT 301        0.640569\n",
       "LIT 301        0.614493\n",
       "MV 301         0.499900\n",
       "MV 302         0.798396\n",
       "MV 303         0.502942\n",
       "MV 304         0.513066\n",
       "P3_STATE       0.677540\n",
       "P301 Status    0.691034\n",
       "AIT 402        0.209605\n",
       "FIT 401        0.938848\n",
       "LIT 401        0.583376\n",
       "P401 Status    0.999933\n",
       "UV401          0.991898\n",
       "AIT 501        0.823977\n",
       "AIT 502        0.137982\n",
       "AIT 503        0.552327\n",
       "AIT 504        0.104216\n",
       "FIT 501        0.924435\n",
       "FIT 502        0.665148\n",
       "FIT 503        0.174720\n",
       "FIT 504        0.190824\n",
       "MV 501         0.995924\n",
       "PIT 501        0.102838\n",
       "PIT 502        0.096454\n",
       "PIT 503        0.108192\n",
       "FIT 601        0.024335\n",
       "LSH 601        0.939309\n",
       "P601 Status    0.123844\n",
       "dtype: float64"
      ]
     },
     "execution_count": 28,
     "metadata": {},
     "output_type": "execute_result"
    }
   ],
   "source": [
    "calculate_rms(df)"
   ]
  },
  {
   "cell_type": "code",
   "execution_count": 29,
   "id": "e9841a70",
   "metadata": {},
   "outputs": [
    {
     "data": {
      "text/html": [
       "<div>\n",
       "<style scoped>\n",
       "    .dataframe tbody tr th:only-of-type {\n",
       "        vertical-align: middle;\n",
       "    }\n",
       "\n",
       "    .dataframe tbody tr th {\n",
       "        vertical-align: top;\n",
       "    }\n",
       "\n",
       "    .dataframe thead th {\n",
       "        text-align: right;\n",
       "    }\n",
       "</style>\n",
       "<table border=\"1\" class=\"dataframe\">\n",
       "  <thead>\n",
       "    <tr style=\"text-align: right;\">\n",
       "      <th></th>\n",
       "      <th>Timestamp</th>\n",
       "      <th>Attack</th>\n",
       "      <th>Label</th>\n",
       "      <th>FIT 101</th>\n",
       "      <th>LIT 101</th>\n",
       "      <th>MV 101</th>\n",
       "      <th>P1_STATE</th>\n",
       "      <th>P101 Status</th>\n",
       "      <th>AIT 201</th>\n",
       "      <th>AIT 202</th>\n",
       "      <th>...</th>\n",
       "      <th>FIT 502</th>\n",
       "      <th>FIT 503</th>\n",
       "      <th>FIT 504</th>\n",
       "      <th>MV 501</th>\n",
       "      <th>PIT 501</th>\n",
       "      <th>PIT 502</th>\n",
       "      <th>PIT 503</th>\n",
       "      <th>FIT 601</th>\n",
       "      <th>LSH 601</th>\n",
       "      <th>P601 Status</th>\n",
       "    </tr>\n",
       "  </thead>\n",
       "  <tbody>\n",
       "    <tr>\n",
       "      <th>1</th>\n",
       "      <td>2019-07-20T04:30:01Z</td>\n",
       "      <td>benign</td>\n",
       "      <td>0</td>\n",
       "      <td>0.000000</td>\n",
       "      <td>-0.001293</td>\n",
       "      <td>0.0</td>\n",
       "      <td>0.0</td>\n",
       "      <td>0.0</td>\n",
       "      <td>0.0</td>\n",
       "      <td>0.000000</td>\n",
       "      <td>...</td>\n",
       "      <td>0.009229</td>\n",
       "      <td>0.000000</td>\n",
       "      <td>-0.005776</td>\n",
       "      <td>0.0</td>\n",
       "      <td>0.000000</td>\n",
       "      <td>0.0</td>\n",
       "      <td>0.0</td>\n",
       "      <td>0.0</td>\n",
       "      <td>0.0</td>\n",
       "      <td>0.0</td>\n",
       "    </tr>\n",
       "    <tr>\n",
       "      <th>2</th>\n",
       "      <td>2019-07-20T04:30:02.004013Z</td>\n",
       "      <td>benign</td>\n",
       "      <td>0</td>\n",
       "      <td>0.000000</td>\n",
       "      <td>-0.000940</td>\n",
       "      <td>0.0</td>\n",
       "      <td>0.0</td>\n",
       "      <td>0.0</td>\n",
       "      <td>0.0</td>\n",
       "      <td>0.000000</td>\n",
       "      <td>...</td>\n",
       "      <td>0.003742</td>\n",
       "      <td>0.000000</td>\n",
       "      <td>0.000000</td>\n",
       "      <td>0.0</td>\n",
       "      <td>0.000000</td>\n",
       "      <td>0.0</td>\n",
       "      <td>0.0</td>\n",
       "      <td>0.0</td>\n",
       "      <td>0.0</td>\n",
       "      <td>0.0</td>\n",
       "    </tr>\n",
       "    <tr>\n",
       "      <th>3</th>\n",
       "      <td>2019-07-20T04:30:03.004013Z</td>\n",
       "      <td>benign</td>\n",
       "      <td>0</td>\n",
       "      <td>0.000000</td>\n",
       "      <td>-0.001293</td>\n",
       "      <td>0.0</td>\n",
       "      <td>0.0</td>\n",
       "      <td>0.0</td>\n",
       "      <td>0.0</td>\n",
       "      <td>-0.005328</td>\n",
       "      <td>...</td>\n",
       "      <td>-0.017461</td>\n",
       "      <td>0.000000</td>\n",
       "      <td>-0.002475</td>\n",
       "      <td>0.0</td>\n",
       "      <td>0.000000</td>\n",
       "      <td>0.0</td>\n",
       "      <td>0.0</td>\n",
       "      <td>0.0</td>\n",
       "      <td>0.0</td>\n",
       "      <td>0.0</td>\n",
       "    </tr>\n",
       "    <tr>\n",
       "      <th>4</th>\n",
       "      <td>2019-07-20T04:30:04Z</td>\n",
       "      <td>benign</td>\n",
       "      <td>0</td>\n",
       "      <td>0.000000</td>\n",
       "      <td>-0.002939</td>\n",
       "      <td>0.0</td>\n",
       "      <td>0.0</td>\n",
       "      <td>0.0</td>\n",
       "      <td>0.0</td>\n",
       "      <td>0.000000</td>\n",
       "      <td>...</td>\n",
       "      <td>-0.008980</td>\n",
       "      <td>0.000000</td>\n",
       "      <td>0.015677</td>\n",
       "      <td>0.0</td>\n",
       "      <td>0.000000</td>\n",
       "      <td>0.0</td>\n",
       "      <td>0.0</td>\n",
       "      <td>0.0</td>\n",
       "      <td>0.0</td>\n",
       "      <td>0.0</td>\n",
       "    </tr>\n",
       "    <tr>\n",
       "      <th>5</th>\n",
       "      <td>2019-07-20T04:30:05Z</td>\n",
       "      <td>benign</td>\n",
       "      <td>0</td>\n",
       "      <td>0.000000</td>\n",
       "      <td>-0.001646</td>\n",
       "      <td>0.0</td>\n",
       "      <td>0.0</td>\n",
       "      <td>0.0</td>\n",
       "      <td>0.0</td>\n",
       "      <td>0.000000</td>\n",
       "      <td>...</td>\n",
       "      <td>-0.013969</td>\n",
       "      <td>0.000000</td>\n",
       "      <td>0.008251</td>\n",
       "      <td>0.0</td>\n",
       "      <td>0.000000</td>\n",
       "      <td>0.0</td>\n",
       "      <td>0.0</td>\n",
       "      <td>0.0</td>\n",
       "      <td>0.0</td>\n",
       "      <td>0.0</td>\n",
       "    </tr>\n",
       "    <tr>\n",
       "      <th>...</th>\n",
       "      <td>...</td>\n",
       "      <td>...</td>\n",
       "      <td>...</td>\n",
       "      <td>...</td>\n",
       "      <td>...</td>\n",
       "      <td>...</td>\n",
       "      <td>...</td>\n",
       "      <td>...</td>\n",
       "      <td>...</td>\n",
       "      <td>...</td>\n",
       "      <td>...</td>\n",
       "      <td>...</td>\n",
       "      <td>...</td>\n",
       "      <td>...</td>\n",
       "      <td>...</td>\n",
       "      <td>...</td>\n",
       "      <td>...</td>\n",
       "      <td>...</td>\n",
       "      <td>...</td>\n",
       "      <td>...</td>\n",
       "      <td>...</td>\n",
       "    </tr>\n",
       "    <tr>\n",
       "      <th>14991</th>\n",
       "      <td>2019-07-20T08:39:55.001007Z</td>\n",
       "      <td>benign</td>\n",
       "      <td>0</td>\n",
       "      <td>0.020729</td>\n",
       "      <td>0.000000</td>\n",
       "      <td>0.0</td>\n",
       "      <td>0.0</td>\n",
       "      <td>0.0</td>\n",
       "      <td>0.0</td>\n",
       "      <td>-0.001775</td>\n",
       "      <td>...</td>\n",
       "      <td>0.000000</td>\n",
       "      <td>0.000000</td>\n",
       "      <td>0.000000</td>\n",
       "      <td>0.0</td>\n",
       "      <td>0.000000</td>\n",
       "      <td>0.0</td>\n",
       "      <td>0.0</td>\n",
       "      <td>0.0</td>\n",
       "      <td>0.0</td>\n",
       "      <td>0.0</td>\n",
       "    </tr>\n",
       "    <tr>\n",
       "      <th>14992</th>\n",
       "      <td>2019-07-20T08:39:56.0050048Z</td>\n",
       "      <td>benign</td>\n",
       "      <td>0</td>\n",
       "      <td>0.012146</td>\n",
       "      <td>0.000705</td>\n",
       "      <td>0.0</td>\n",
       "      <td>0.0</td>\n",
       "      <td>0.0</td>\n",
       "      <td>0.0</td>\n",
       "      <td>-0.003553</td>\n",
       "      <td>...</td>\n",
       "      <td>0.014467</td>\n",
       "      <td>-0.009622</td>\n",
       "      <td>0.000000</td>\n",
       "      <td>0.0</td>\n",
       "      <td>0.000526</td>\n",
       "      <td>0.0</td>\n",
       "      <td>0.0</td>\n",
       "      <td>0.0</td>\n",
       "      <td>0.0</td>\n",
       "      <td>0.0</td>\n",
       "    </tr>\n",
       "    <tr>\n",
       "      <th>14993</th>\n",
       "      <td>2019-07-20T08:39:57.0050048Z</td>\n",
       "      <td>benign</td>\n",
       "      <td>0</td>\n",
       "      <td>0.011274</td>\n",
       "      <td>0.002704</td>\n",
       "      <td>0.0</td>\n",
       "      <td>0.0</td>\n",
       "      <td>0.0</td>\n",
       "      <td>0.0</td>\n",
       "      <td>0.000000</td>\n",
       "      <td>...</td>\n",
       "      <td>-0.009479</td>\n",
       "      <td>0.000000</td>\n",
       "      <td>0.000000</td>\n",
       "      <td>0.0</td>\n",
       "      <td>0.000789</td>\n",
       "      <td>0.0</td>\n",
       "      <td>0.0</td>\n",
       "      <td>0.0</td>\n",
       "      <td>0.0</td>\n",
       "      <td>0.0</td>\n",
       "    </tr>\n",
       "    <tr>\n",
       "      <th>14994</th>\n",
       "      <td>2019-07-20T08:39:58.0050048Z</td>\n",
       "      <td>benign</td>\n",
       "      <td>0</td>\n",
       "      <td>0.004582</td>\n",
       "      <td>0.000470</td>\n",
       "      <td>0.0</td>\n",
       "      <td>0.0</td>\n",
       "      <td>0.0</td>\n",
       "      <td>0.0</td>\n",
       "      <td>-0.000888</td>\n",
       "      <td>...</td>\n",
       "      <td>-0.023447</td>\n",
       "      <td>0.000000</td>\n",
       "      <td>0.000000</td>\n",
       "      <td>0.0</td>\n",
       "      <td>0.000000</td>\n",
       "      <td>0.0</td>\n",
       "      <td>0.0</td>\n",
       "      <td>0.0</td>\n",
       "      <td>0.0</td>\n",
       "      <td>0.0</td>\n",
       "    </tr>\n",
       "    <tr>\n",
       "      <th>14995</th>\n",
       "      <td>2019-07-20T08:39:59.004013Z</td>\n",
       "      <td>benign</td>\n",
       "      <td>0</td>\n",
       "      <td>0.000000</td>\n",
       "      <td>0.001293</td>\n",
       "      <td>0.0</td>\n",
       "      <td>0.0</td>\n",
       "      <td>0.0</td>\n",
       "      <td>0.0</td>\n",
       "      <td>-0.003997</td>\n",
       "      <td>...</td>\n",
       "      <td>0.011474</td>\n",
       "      <td>0.000000</td>\n",
       "      <td>0.000000</td>\n",
       "      <td>0.0</td>\n",
       "      <td>0.000000</td>\n",
       "      <td>0.0</td>\n",
       "      <td>0.0</td>\n",
       "      <td>0.0</td>\n",
       "      <td>0.0</td>\n",
       "      <td>0.0</td>\n",
       "    </tr>\n",
       "  </tbody>\n",
       "</table>\n",
       "<p>14995 rows × 47 columns</p>\n",
       "</div>"
      ],
      "text/plain": [
       "                          Timestamp  Attack  Label   FIT 101   LIT 101  \\\n",
       "1              2019-07-20T04:30:01Z  benign      0  0.000000 -0.001293   \n",
       "2       2019-07-20T04:30:02.004013Z  benign      0  0.000000 -0.000940   \n",
       "3       2019-07-20T04:30:03.004013Z  benign      0  0.000000 -0.001293   \n",
       "4              2019-07-20T04:30:04Z  benign      0  0.000000 -0.002939   \n",
       "5              2019-07-20T04:30:05Z  benign      0  0.000000 -0.001646   \n",
       "...                             ...     ...    ...       ...       ...   \n",
       "14991   2019-07-20T08:39:55.001007Z  benign      0  0.020729  0.000000   \n",
       "14992  2019-07-20T08:39:56.0050048Z  benign      0  0.012146  0.000705   \n",
       "14993  2019-07-20T08:39:57.0050048Z  benign      0  0.011274  0.002704   \n",
       "14994  2019-07-20T08:39:58.0050048Z  benign      0  0.004582  0.000470   \n",
       "14995   2019-07-20T08:39:59.004013Z  benign      0  0.000000  0.001293   \n",
       "\n",
       "       MV 101  P1_STATE  P101 Status  AIT 201   AIT 202  ...   FIT 502  \\\n",
       "1         0.0       0.0          0.0      0.0  0.000000  ...  0.009229   \n",
       "2         0.0       0.0          0.0      0.0  0.000000  ...  0.003742   \n",
       "3         0.0       0.0          0.0      0.0 -0.005328  ... -0.017461   \n",
       "4         0.0       0.0          0.0      0.0  0.000000  ... -0.008980   \n",
       "5         0.0       0.0          0.0      0.0  0.000000  ... -0.013969   \n",
       "...       ...       ...          ...      ...       ...  ...       ...   \n",
       "14991     0.0       0.0          0.0      0.0 -0.001775  ...  0.000000   \n",
       "14992     0.0       0.0          0.0      0.0 -0.003553  ...  0.014467   \n",
       "14993     0.0       0.0          0.0      0.0  0.000000  ... -0.009479   \n",
       "14994     0.0       0.0          0.0      0.0 -0.000888  ... -0.023447   \n",
       "14995     0.0       0.0          0.0      0.0 -0.003997  ...  0.011474   \n",
       "\n",
       "        FIT 503   FIT 504  MV 501   PIT 501  PIT 502  PIT 503  FIT 601  \\\n",
       "1      0.000000 -0.005776     0.0  0.000000      0.0      0.0      0.0   \n",
       "2      0.000000  0.000000     0.0  0.000000      0.0      0.0      0.0   \n",
       "3      0.000000 -0.002475     0.0  0.000000      0.0      0.0      0.0   \n",
       "4      0.000000  0.015677     0.0  0.000000      0.0      0.0      0.0   \n",
       "5      0.000000  0.008251     0.0  0.000000      0.0      0.0      0.0   \n",
       "...         ...       ...     ...       ...      ...      ...      ...   \n",
       "14991  0.000000  0.000000     0.0  0.000000      0.0      0.0      0.0   \n",
       "14992 -0.009622  0.000000     0.0  0.000526      0.0      0.0      0.0   \n",
       "14993  0.000000  0.000000     0.0  0.000789      0.0      0.0      0.0   \n",
       "14994  0.000000  0.000000     0.0  0.000000      0.0      0.0      0.0   \n",
       "14995  0.000000  0.000000     0.0  0.000000      0.0      0.0      0.0   \n",
       "\n",
       "       LSH 601  P601 Status  \n",
       "1          0.0          0.0  \n",
       "2          0.0          0.0  \n",
       "3          0.0          0.0  \n",
       "4          0.0          0.0  \n",
       "5          0.0          0.0  \n",
       "...        ...          ...  \n",
       "14991      0.0          0.0  \n",
       "14992      0.0          0.0  \n",
       "14993      0.0          0.0  \n",
       "14994      0.0          0.0  \n",
       "14995      0.0          0.0  \n",
       "\n",
       "[14995 rows x 47 columns]"
      ]
     },
     "execution_count": 29,
     "metadata": {},
     "output_type": "execute_result"
    }
   ],
   "source": [
    "df_diff = diff_df(df)\n",
    "df_diff"
   ]
  },
  {
   "cell_type": "markdown",
   "id": "4e175f15",
   "metadata": {},
   "source": [
    "### Autres algorithmes\n",
    "\n",
    "Comme le dataset est labellisé, nous allons utiliser des algorithmes de classification pour avoir une meilleure prédiction."
   ]
  },
  {
   "cell_type": "code",
   "execution_count": 30,
   "id": "5559a48c",
   "metadata": {
    "ExecuteTime": {
     "end_time": "2023-11-05T23:08:23.257437Z",
     "start_time": "2023-11-05T23:08:23.218518Z"
    }
   },
   "outputs": [
    {
     "name": "stdout",
     "output_type": "stream",
     "text": [
      "6 attacks detected\n"
     ]
    }
   ],
   "source": [
    "from xgboost import XGBClassifier\n",
    "from sklearn.model_selection import train_test_split\n",
    "from sklearn.metrics import accuracy_score\n",
    "\n",
    "# Extract features and labels\n",
    "df_boost = df.copy()\n",
    "labels = extract_labels(df_boost)\n",
    "\n",
    "# boost_train & boost_test are the datasets used for training and testing the model\n",
    "# in opposite to X_train & X_test, they contain extra columns (Attack, Label, Timestamp)\n",
    "boost_train, boost_test, y_train, y_test = split_by_blocks(df_boost, labels)\n",
    "X_train = extract_features(boost_train)\n",
    "X_test = extract_features(boost_test)"
   ]
  },
  {
   "cell_type": "code",
   "execution_count": 31,
   "id": "d0b35c30",
   "metadata": {
    "ExecuteTime": {
     "end_time": "2023-11-05T23:03:23.487340Z",
     "start_time": "2023-11-05T23:03:23.414871Z"
    }
   },
   "outputs": [
    {
     "name": "stdout",
     "output_type": "stream",
     "text": [
      "Accuracy: 84.76%\n"
     ]
    }
   ],
   "source": [
    "model = XGBClassifier(use_label_encoder=False)\n",
    "model.fit(X_train, y_train)\n",
    "\n",
    "y_pred = model.predict(X_test)\n",
    "\n",
    "accuracy = accuracy_score(y_test, y_pred)\n",
    "print(\"Accuracy: %.2f%%\" % (accuracy * 100.0))"
   ]
  },
  {
   "cell_type": "code",
   "execution_count": 32,
   "id": "802f33b0",
   "metadata": {
    "ExecuteTime": {
     "end_time": "2023-11-05T23:03:24.340476Z",
     "start_time": "2023-11-05T23:03:24.331881Z"
    }
   },
   "outputs": [
    {
     "name": "stdout",
     "output_type": "stream",
     "text": [
      "Accuracy: 0.85\n",
      "Precision: 0.46\n",
      "Recall: 0.60\n",
      "Matthews: 0.44\n"
     ]
    },
    {
     "name": "stderr",
     "output_type": "stream",
     "text": [
      "C:\\Users\\antho\\AppData\\Local\\Temp/ipykernel_26392/2039766613.py:1: SettingWithCopyWarning: \n",
      "A value is trying to be set on a copy of a slice from a DataFrame.\n",
      "Try using .loc[row_indexer,col_indexer] = value instead\n",
      "\n",
      "See the caveats in the documentation: https://pandas.pydata.org/pandas-docs/stable/user_guide/indexing.html#returning-a-view-versus-a-copy\n",
      "  boost_test['xgb_predictions'] = y_pred\n"
     ]
    },
    {
     "data": {
      "text/plain": [
       "(0.8476190476190476,\n",
       " 0.46095238095238095,\n",
       " 0.6004962779156328,\n",
       " None,\n",
       " 0.43814120224369857)"
      ]
     },
     "execution_count": 32,
     "metadata": {},
     "output_type": "execute_result"
    }
   ],
   "source": [
    "boost_test['xgb_predictions'] = y_pred\n",
    "evaluate(boost_test, 'xgb_predictions')"
   ]
  },
  {
   "cell_type": "code",
   "execution_count": 33,
   "id": "ca75b0a4",
   "metadata": {
    "ExecuteTime": {
     "end_time": "2023-11-05T23:06:16.599001Z",
     "start_time": "2023-11-05T23:06:13.561967Z"
    }
   },
   "outputs": [
    {
     "data": {
      "image/png": "[encoded data removed]",
      "text/plain": [
       "<Figure size 720x360 with 2 Axes>"
      ]
     },
     "metadata": {
      "needs_background": "light"
     },
     "output_type": "display_data"
    }
   ],
   "source": [
    "visualize_dfs([boost_test, boost_test], ['Label', 'xgb_predictions'], titles=['Attacks', 'XGBoost'])"
   ]
  },
  {
   "cell_type": "code",
   "execution_count": null,
   "id": "7f44aed76fd23647",
   "metadata": {},
   "outputs": [],
   "source": []
  }
 ],
 "metadata": {
  "kernelspec": {
   "display_name": "Python 3 (ipykernel)",
   "language": "python",
   "name": "python3"
  },
  "language_info": {
   "codemirror_mode": {
    "name": "ipython",
    "version": 3
   },
   "file_extension": ".py",
   "mimetype": "text/x-python",
   "name": "python",
   "nbconvert_exporter": "python",
   "pygments_lexer": "ipython3",
   "version": "3.9.7"
  }
 },
 "nbformat": 4,
 "nbformat_minor": 5
}
