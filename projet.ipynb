{
 "cells": [
  {
   "cell_type": "markdown",
   "id": "e16b0debc0b1e3e8",
   "metadata": {},
   "source": [
    "Auteurs:\n",
    "- Louis PAGNIER\n",
    "- Léo SRON\n",
    "- Anthony BERNARD\n",
    "- Junyi LI\n",
    "- David FRECON\n",
    "\n",
    "# Détection d'anomalies dans le système SWaT (Secure Water Treatment)\n",
    "\n",
    "## Introduction\n",
    "\n",
    "Dans ce notebook, nous allons essayer de prédire les attaques sur le système SWaT à partir des données fournies dans le dataset SWaT.A3 qui répertorie des données du 20 Juillet 2019.   \n",
    "Dans ce jeu de données, 6 attaques ont été réalisées sur le système SWaT à des moments différents de la journée."
   ]
  },
  {
   "cell_type": "markdown",
   "id": "b171fd7ce797fe79",
   "metadata": {},
   "source": [
    "## Import des librairies"
   ]
  },
  {
   "cell_type": "code",
   "execution_count": 1,
   "id": "abb977aa1c5eb654",
   "metadata": {
    "ExecuteTime": {
     "end_time": "2023-11-07T14:27:08.422924Z",
     "start_time": "2023-11-07T14:27:07.494716Z"
    }
   },
   "outputs": [],
   "source": [
    "import pandas as pd\n",
    "import random\n",
    "from mlsecu.anomaly_detection_use_case import *\n",
    "from mlsecu.data_exploration_utils import *\n",
    "from mlsecu.data_preparation_utils import *\n",
    "from sklearn.decomposition import PCA\n",
    "from sklearn.metrics import precision_recall_curve\n",
    "from sklearn.metrics import average_precision_score\n",
    "import re\n",
    "import matplotlib.pyplot as plt"
   ]
  },
  {
   "cell_type": "markdown",
   "id": "adfe7586abe47ee7",
   "metadata": {},
   "source": [
    "## Définition des fonctions\n",
    "\n",
    "Dans un premier temps, nous allons nous concentrer uniquement sur les capteurs du système et laisser de côté les pompes."
   ]
  },
  {
   "cell_type": "code",
   "execution_count": 2,
   "id": "5a00c39ace022b1",
   "metadata": {
    "ExecuteTime": {
     "end_time": "2023-11-07T14:27:08.428766Z",
     "start_time": "2023-11-07T14:27:08.423871Z"
    }
   },
   "outputs": [],
   "source": [
    "sensor_regex = re.compile(r'^(A|F|L|P)IT \\d{3}$')\n",
    "column_regex = re.compile(r'^(.*\\d{3})|(.*_STATE)|(.* Status)|(.* STATE)$')"
   ]
  },
  {
   "cell_type": "code",
   "execution_count": 3,
   "outputs": [],
   "source": [
    "def normalize_df(df):\n",
    "    \"\"\"\n",
    "    Normalize the dataset by using the min-max normalization.\n",
    "    \"\"\"\n",
    "    df_norm = df.copy()\n",
    "    for col in df_norm.columns:\n",
    "        if col not in ['Timestamp', 'Attack', 'Label']:\n",
    "            df_norm[col] = (df_norm[col] - df_norm[col].min()) / (df_norm[col].max() - df_norm[col].min())\n",
    "    return df_norm"
   ],
   "metadata": {
    "collapsed": false,
    "ExecuteTime": {
     "end_time": "2023-11-07T14:27:08.428983Z",
     "start_time": "2023-11-07T14:27:08.427010Z"
    }
   },
   "id": "2492555b8f754988"
  },
  {
   "cell_type": "code",
   "execution_count": 4,
   "id": "790b3497444d477c",
   "metadata": {
    "ExecuteTime": {
     "end_time": "2023-11-07T14:27:08.434867Z",
     "start_time": "2023-11-07T14:27:08.430414Z"
    }
   },
   "outputs": [],
   "source": [
    "def load_df(name, only_sensors=True):\n",
    "    \"\"\"\n",
    "    Load the dataset from the excel file.\n",
    "    The parameter only_sensors allows to load only the sensors and not the pumps.\n",
    "    \"\"\"\n",
    "    df = pd.read_excel(name, skiprows=[0, 2])\n",
    "    if only_sensors:\n",
    "        sensor_cols = [col for col in df.columns if sensor_regex.match(col) or col in ['Timestamp', 'Attack', 'Label']]\n",
    "        df = df[sensor_cols]\n",
    "    return df"
   ]
  },
  {
   "cell_type": "code",
   "execution_count": 5,
   "id": "b6c5b105262451e1",
   "metadata": {
    "ExecuteTime": {
     "end_time": "2023-11-07T14:27:08.440841Z",
     "start_time": "2023-11-07T14:27:08.435016Z"
    }
   },
   "outputs": [],
   "source": [
    "def clean_df(df):\n",
    "    \"\"\"\n",
    "    Clean the dataset by removing NaN values and replacing them by the corresponding missing values.\n",
    "    \"\"\"\n",
    "    df['Attack'] = df['Attack'].fillna('benign')\n",
    "    df['Label'] = df['Label'].fillna(0)\n",
    "    df['Label'] = df['Label'].astype(int)\n",
    "    df = df.drop(columns=['AIT 401'])\n",
    "    df = df.dropna(axis=0)\n",
    "    for col in df.columns:\n",
    "        if col in ['Timestamp', 'Attack', 'Label']:\n",
    "            continue\n",
    "        # replace dictionary values\n",
    "        if col[:2] == 'LS':\n",
    "            df[col] = df[col].apply(lambda x: x[-2])\n",
    "            df[col] = df[col].astype(int)\n",
    "        # delete constant columns\n",
    "        if df[col].std() == 0:\n",
    "            df = df.drop(columns=[col])\n",
    "    return df"
   ]
  },
  {
   "cell_type": "code",
   "execution_count": 6,
   "id": "d90115b1df4bd623",
   "metadata": {
    "ExecuteTime": {
     "end_time": "2023-11-07T14:27:08.441062Z",
     "start_time": "2023-11-07T14:27:08.437465Z"
    }
   },
   "outputs": [],
   "source": [
    "def extract_features(df):\n",
    "    \"\"\"\n",
    "    Extract the features from the dataset.\n",
    "    \"\"\"\n",
    "    cols = [col for col in df.columns if column_regex.match(col)]\n",
    "    df_X = df[cols]\n",
    "    return df_X\n",
    "\n",
    "def extract_labels(df, label_col='Label'):\n",
    "    \"\"\"\n",
    "    Extract the labels from the dataset.\n",
    "    \"\"\"\n",
    "    return df[label_col]"
   ]
  },
  {
   "cell_type": "code",
   "execution_count": 7,
   "id": "3545f53e80ed2ff3",
   "metadata": {
    "ExecuteTime": {
     "end_time": "2023-11-07T14:27:08.447961Z",
     "start_time": "2023-11-07T14:27:08.441111Z"
    }
   },
   "outputs": [],
   "source": [
    "def visualize_df(df, outlier_col='Label', title='PCA', targets=[0, 1], colors=['b', 'r']):\n",
    "    \"\"\"\n",
    "    Visualize the dataset by using PCA to reduce the dimensionality.\n",
    "    \"\"\"\n",
    "    df_X = extract_features(df)\n",
    "    df_y = extract_labels(df, outlier_col)\n",
    "    \n",
    "    pca = PCA(n_components=2)\n",
    "    df_X_pca = pca.fit_transform(df_X)\n",
    "    df_X_pca = pd.DataFrame(df_X_pca, columns=['PC1', 'PC2'])\n",
    "    df_X_pca['Label'] = df_y.tolist()\n",
    "    \n",
    "    fig = plt.figure(figsize=(5, 5))\n",
    "    ax = fig.add_subplot(111)\n",
    "    ax.set_xlabel('PC1')\n",
    "    ax.set_ylabel('PC2')\n",
    "    ax.set_title(title)\n",
    "    for target, color in zip(targets, colors):\n",
    "        indices_to_keep = df_X_pca['Label'] == target\n",
    "        ax.scatter(df_X_pca.loc[indices_to_keep, 'PC1'], df_X_pca.loc[indices_to_keep, 'PC2'], c=color, s=50)\n",
    "    ax.legend(targets)\n",
    "    ax.grid()\n",
    "    plt.show()\n",
    "    "
   ]
  },
  {
   "cell_type": "code",
   "execution_count": 8,
   "id": "ca810e15e7dfd723",
   "metadata": {
    "ExecuteTime": {
     "end_time": "2023-11-07T14:27:08.457433Z",
     "start_time": "2023-11-07T14:27:08.446211Z"
    }
   },
   "outputs": [],
   "source": [
    "def visualize_dfs(dfs, outlier_cols=['Label'], titles=['PCA'], targets=[0, 1], colors=['b', 'r']):\n",
    "    \"\"\"\n",
    "    Visualize multiple datasets in a row by using PCA.\n",
    "    \"\"\"\n",
    "    fig, axs = plt.subplots(1, len(dfs), figsize=(10, 5))\n",
    "    for i, df in enumerate(dfs):\n",
    "        df_X = extract_features(df)\n",
    "        df_y = extract_labels(df, outlier_cols[i])\n",
    "        \n",
    "        pca = PCA(n_components=2)\n",
    "        df_X_pca = pca.fit_transform(df_X)\n",
    "        df_X_pca = pd.DataFrame(df_X_pca, columns=['PC1', 'PC2'])\n",
    "        df_X_pca['Label'] = df_y.tolist()\n",
    "        \n",
    "        axs[i].set_xlabel('PC1')\n",
    "        axs[i].set_ylabel('PC2')\n",
    "        axs[i].set_title(titles[i])\n",
    "        for target, color in zip(targets, colors):\n",
    "            indices_to_keep = df_X_pca['Label'] == target\n",
    "            axs[i].scatter(df_X_pca.loc[indices_to_keep, 'PC1'], df_X_pca.loc[indices_to_keep, 'PC2'], c=color, s=50)\n",
    "        axs[i].legend(targets)\n",
    "        axs[i].grid()\n",
    "    plt.show()"
   ]
  },
  {
   "cell_type": "code",
   "execution_count": 9,
   "id": "8d43abcd812155de",
   "metadata": {
    "ExecuteTime": {
     "end_time": "2023-11-07T14:27:08.457849Z",
     "start_time": "2023-11-07T14:27:08.448818Z"
    }
   },
   "outputs": [],
   "source": [
    "def get_confusion_matrix(df, prediction_col, label_col):\n",
    "    \"\"\"\n",
    "    Compute the confusion matrix from the dataset.\n",
    "    \"\"\"\n",
    "    TP = df[(df[prediction_col] == 1) & (df[label_col] == 1)].shape[0]\n",
    "    TN = df[(df[prediction_col] == 0) & (df[label_col] == 0)].shape[0]\n",
    "    FP = df[(df[prediction_col] == 1) & (df[label_col] == 0)].shape[0]\n",
    "    FN = df[(df[prediction_col] == 0) & (df[label_col] == 1)].shape[0]\n",
    "    return TP, TN, FP, FN"
   ]
  },
  {
   "cell_type": "code",
   "execution_count": 10,
   "id": "cb653ef0eaae4f27",
   "metadata": {
    "ExecuteTime": {
     "end_time": "2023-11-07T14:27:08.457928Z",
     "start_time": "2023-11-07T14:27:08.454827Z"
    }
   },
   "outputs": [],
   "source": [
    "def compute_accuracy(df, prediction_col, label_col='Label'):\n",
    "    \"\"\"\n",
    "    Compute the accuracy from the dataset.\n",
    "    \"\"\"\n",
    "    TP, TN, FP, FN = get_confusion_matrix(df, prediction_col, label_col)\n",
    "    return (TP + TN) / (TP + TN + FP + FN)\n",
    "\n",
    "def compute_precision(df, prediction_col, label_col='Label'):\n",
    "    \"\"\"\n",
    "    Compute the precision from the dataset.\n",
    "    \"\"\"\n",
    "    TP, TN, FP, FN = get_confusion_matrix(df, prediction_col, label_col)\n",
    "    return TP / (TP + FP)\n",
    "\n",
    "def compute_recall(df, prediction_col, label_col='Label'):\n",
    "    \"\"\"\n",
    "    Compute the recall from the dataset.\n",
    "    \"\"\"\n",
    "    TP, TN, FP, FN = get_confusion_matrix(df, prediction_col, label_col)\n",
    "    return TP / (TP + FN)"
   ]
  },
  {
   "cell_type": "code",
   "execution_count": 11,
   "outputs": [],
   "source": [
    "def split_by_blocks(X, y, train_attacks=3, approximate_test_size=0.2, block_size=10*60, random_state=42):\n",
    "    \"\"\"\n",
    "    Split the dataset into train and test sets by using blocks of data.\n",
    "    WARNING: Works only if the dataset is sorted by timestamp.\n",
    "    :param X: \n",
    "    :param y: \n",
    "    :param train_attacks: \n",
    "    :param approximate_test_size: \n",
    "    :param block_size: \n",
    "    :param random_state: \n",
    "    :return: \n",
    "    \"\"\"\n",
    "    random.seed(random_state)\n",
    "    \n",
    "    n_rows = len(X)\n",
    "    attacks = []\n",
    "    benign = []\n",
    "    attack_id = -1\n",
    "    for i in range(0, n_rows):\n",
    "        if y.iloc[i]:\n",
    "            if i == 0 or y.iloc[i] != y.iloc[i-1]:\n",
    "                attack_id += 1\n",
    "                attacks.append([])\n",
    "            attacks[-1].append(i)\n",
    "        else:\n",
    "            benign.append(i)\n",
    "        \n",
    "    random.shuffle(attacks)\n",
    "    \n",
    "    print(len(attacks), 'attacks detected')\n",
    "        \n",
    "    train_indices = []\n",
    "    test_indices = []\n",
    "    \n",
    "    for i, attack in enumerate(attacks):\n",
    "        if i < train_attacks:\n",
    "            train_indices += attack\n",
    "        else:\n",
    "            test_indices += attack\n",
    "            \n",
    "    benign_blocks = []\n",
    "    for i in range(0, len(benign), block_size):\n",
    "        benign_blocks.append(benign[i:i+block_size])\n",
    "        \n",
    "    random.shuffle(benign_blocks)\n",
    "    \n",
    "    upper_bound = int((1 - approximate_test_size) * len(benign_blocks))\n",
    "    for i, benign_block in enumerate(benign_blocks):\n",
    "        if i < upper_bound:\n",
    "            train_indices += benign_block\n",
    "        else:\n",
    "            test_indices += benign_block\n",
    "            \n",
    "    random.shuffle(train_indices)\n",
    "    random.shuffle(test_indices)\n",
    "    \n",
    "    X_train = X.iloc[train_indices]\n",
    "    y_train = y.iloc[train_indices]\n",
    "    X_test = X.iloc[test_indices]\n",
    "    y_test = y.iloc[test_indices]\n",
    "    \n",
    "    return X_train, X_test, y_train, y_test\n",
    "    "
   ],
   "metadata": {
    "collapsed": false,
    "ExecuteTime": {
     "end_time": "2023-11-07T14:27:08.466618Z",
     "start_time": "2023-11-07T14:27:08.459612Z"
    }
   },
   "id": "ac51096d6febc089"
  },
  {
   "cell_type": "code",
   "execution_count": 12,
   "outputs": [],
   "source": [
    "def evaluate(df, prediction_col, label_col='Label', scores=None, verbose=True):\n",
    "    \"\"\"\n",
    "    Evaluate the model\n",
    "    \"\"\"\n",
    "    TP, TN, FP, FN = get_confusion_matrix(df, prediction_col, label_col)\n",
    "    accuracy = (TP + TN) / (TP + TN + FP + FN)\n",
    "    precision = TP / (TP + FP)\n",
    "    recall = TP / (TP + FN)\n",
    "    auprc = average_precision_score(df[label_col], scores) if scores is not None else None\n",
    "    matthews = (TP * TN - FP * FN) / (((TP + FP) * (TP + FN) * (TN + FP) * (TN + FN)) ** 0.5)\n",
    "    if verbose:\n",
    "        print('Accuracy: {:.2f}'.format(accuracy))\n",
    "        print('Precision: {:.2f}'.format(precision))\n",
    "        print('Recall: {:.2f}'.format(recall))\n",
    "        if auprc is not None:\n",
    "            print('AUPRC: {:.2f}'.format(auprc))\n",
    "        print('Matthews: {:.2f}'.format(matthews))\n",
    "    return accuracy, precision, recall, auprc, matthews"
   ],
   "metadata": {
    "collapsed": false,
    "ExecuteTime": {
     "end_time": "2023-11-07T14:27:08.466792Z",
     "start_time": "2023-11-07T14:27:08.462785Z"
    }
   },
   "id": "b685fd03014396a2"
  },
  {
   "cell_type": "code",
   "execution_count": 13,
   "outputs": [],
   "source": [
    "def predict_if(df, rate=0.17):\n",
    "    # Remove extra columns (These columns must not be used for the detection of outliers)\n",
    "    df_if = extract_features(df).copy()\n",
    "    _if = IsolationForest(contamination=rate, random_state=42)\n",
    "    _if.fit(df_if)\n",
    "    if_scores = _if.score_samples(df_if)\n",
    "    df_if['if_outliers'] = _if.predict(df_if)\n",
    "    df_if['if_outliers'] = df_if['if_outliers'].map({1: 0, -1: 1})\n",
    "    # restore extra columns\n",
    "    df_if['Timestamp'] = df['Timestamp']\n",
    "    df_if['Attack'] = df['Attack']\n",
    "    df_if['Label'] = df['Label']\n",
    "    \n",
    "    return df_if, if_scores"
   ],
   "metadata": {
    "collapsed": false,
    "ExecuteTime": {
     "end_time": "2023-11-07T14:27:08.468295Z",
     "start_time": "2023-11-07T14:27:08.466216Z"
    }
   },
   "id": "f315e7a74c9626b0"
  },
  {
   "cell_type": "markdown",
   "id": "1bdace2961f4346c",
   "metadata": {},
   "source": [
    "## Chargement des données\n",
    "\n",
    "Avant de commencer, nous allons charger les données du dataset SWaT.A3."
   ]
  },
  {
   "cell_type": "code",
   "execution_count": 14,
   "id": "ad21d6efc038ae83",
   "metadata": {
    "ExecuteTime": {
     "end_time": "2023-11-07T14:27:14.229024Z",
     "start_time": "2023-11-07T14:27:08.470265Z"
    }
   },
   "outputs": [
    {
     "data": {
      "text/plain": "                     Timestamp  Attack  Label  FIT 101   LIT 101  MV 101  \\\n0         2019-07-20T04:30:00Z  benign      0      0.0  0.714823     0.5   \n1         2019-07-20T04:30:01Z  benign      0      0.0  0.713530     0.5   \n2  2019-07-20T04:30:02.004013Z  benign      0      0.0  0.712590     0.5   \n3  2019-07-20T04:30:03.004013Z  benign      0      0.0  0.711297     0.5   \n4         2019-07-20T04:30:04Z  benign      0      0.0  0.708358     0.5   \n\n   P1_STATE  P101 Status   AIT 201   AIT 202  ...   FIT 502   FIT 503  \\\n0       1.0          1.0  0.869776  0.726909  ...  0.600898  0.217869   \n1       1.0          1.0  0.869776  0.726909  ...  0.610127  0.217869   \n2       1.0          1.0  0.869776  0.726909  ...  0.613869  0.217869   \n3       1.0          1.0  0.869776  0.721581  ...  0.596408  0.217869   \n4       1.0          1.0  0.869776  0.721581  ...  0.587428  0.217869   \n\n    FIT 504  MV 501   PIT 501   PIT 502   PIT 503   FIT 601  LSH 601  \\\n0  0.198020     1.0  0.155526  0.002699  0.140332  0.002333      1.0   \n1  0.192244     1.0  0.155526  0.002699  0.140332  0.002333      1.0   \n2  0.192244     1.0  0.155526  0.002699  0.140332  0.002333      1.0   \n3  0.189769     1.0  0.155526  0.002699  0.140332  0.002333      1.0   \n4  0.205446     1.0  0.155526  0.002699  0.140332  0.002333      1.0   \n\n   P601 Status  \n0          0.0  \n1          0.0  \n2          0.0  \n3          0.0  \n4          0.0  \n\n[5 rows x 47 columns]",
      "text/html": "<div>\n<style scoped>\n    .dataframe tbody tr th:only-of-type {\n        vertical-align: middle;\n    }\n\n    .dataframe tbody tr th {\n        vertical-align: top;\n    }\n\n    .dataframe thead th {\n        text-align: right;\n    }\n</style>\n<table border=\"1\" class=\"dataframe\">\n  <thead>\n    <tr style=\"text-align: right;\">\n      <th></th>\n      <th>Timestamp</th>\n      <th>Attack</th>\n      <th>Label</th>\n      <th>FIT 101</th>\n      <th>LIT 101</th>\n      <th>MV 101</th>\n      <th>P1_STATE</th>\n      <th>P101 Status</th>\n      <th>AIT 201</th>\n      <th>AIT 202</th>\n      <th>...</th>\n      <th>FIT 502</th>\n      <th>FIT 503</th>\n      <th>FIT 504</th>\n      <th>MV 501</th>\n      <th>PIT 501</th>\n      <th>PIT 502</th>\n      <th>PIT 503</th>\n      <th>FIT 601</th>\n      <th>LSH 601</th>\n      <th>P601 Status</th>\n    </tr>\n  </thead>\n  <tbody>\n    <tr>\n      <th>0</th>\n      <td>2019-07-20T04:30:00Z</td>\n      <td>benign</td>\n      <td>0</td>\n      <td>0.0</td>\n      <td>0.714823</td>\n      <td>0.5</td>\n      <td>1.0</td>\n      <td>1.0</td>\n      <td>0.869776</td>\n      <td>0.726909</td>\n      <td>...</td>\n      <td>0.600898</td>\n      <td>0.217869</td>\n      <td>0.198020</td>\n      <td>1.0</td>\n      <td>0.155526</td>\n      <td>0.002699</td>\n      <td>0.140332</td>\n      <td>0.002333</td>\n      <td>1.0</td>\n      <td>0.0</td>\n    </tr>\n    <tr>\n      <th>1</th>\n      <td>2019-07-20T04:30:01Z</td>\n      <td>benign</td>\n      <td>0</td>\n      <td>0.0</td>\n      <td>0.713530</td>\n      <td>0.5</td>\n      <td>1.0</td>\n      <td>1.0</td>\n      <td>0.869776</td>\n      <td>0.726909</td>\n      <td>...</td>\n      <td>0.610127</td>\n      <td>0.217869</td>\n      <td>0.192244</td>\n      <td>1.0</td>\n      <td>0.155526</td>\n      <td>0.002699</td>\n      <td>0.140332</td>\n      <td>0.002333</td>\n      <td>1.0</td>\n      <td>0.0</td>\n    </tr>\n    <tr>\n      <th>2</th>\n      <td>2019-07-20T04:30:02.004013Z</td>\n      <td>benign</td>\n      <td>0</td>\n      <td>0.0</td>\n      <td>0.712590</td>\n      <td>0.5</td>\n      <td>1.0</td>\n      <td>1.0</td>\n      <td>0.869776</td>\n      <td>0.726909</td>\n      <td>...</td>\n      <td>0.613869</td>\n      <td>0.217869</td>\n      <td>0.192244</td>\n      <td>1.0</td>\n      <td>0.155526</td>\n      <td>0.002699</td>\n      <td>0.140332</td>\n      <td>0.002333</td>\n      <td>1.0</td>\n      <td>0.0</td>\n    </tr>\n    <tr>\n      <th>3</th>\n      <td>2019-07-20T04:30:03.004013Z</td>\n      <td>benign</td>\n      <td>0</td>\n      <td>0.0</td>\n      <td>0.711297</td>\n      <td>0.5</td>\n      <td>1.0</td>\n      <td>1.0</td>\n      <td>0.869776</td>\n      <td>0.721581</td>\n      <td>...</td>\n      <td>0.596408</td>\n      <td>0.217869</td>\n      <td>0.189769</td>\n      <td>1.0</td>\n      <td>0.155526</td>\n      <td>0.002699</td>\n      <td>0.140332</td>\n      <td>0.002333</td>\n      <td>1.0</td>\n      <td>0.0</td>\n    </tr>\n    <tr>\n      <th>4</th>\n      <td>2019-07-20T04:30:04Z</td>\n      <td>benign</td>\n      <td>0</td>\n      <td>0.0</td>\n      <td>0.708358</td>\n      <td>0.5</td>\n      <td>1.0</td>\n      <td>1.0</td>\n      <td>0.869776</td>\n      <td>0.721581</td>\n      <td>...</td>\n      <td>0.587428</td>\n      <td>0.217869</td>\n      <td>0.205446</td>\n      <td>1.0</td>\n      <td>0.155526</td>\n      <td>0.002699</td>\n      <td>0.140332</td>\n      <td>0.002333</td>\n      <td>1.0</td>\n      <td>0.0</td>\n    </tr>\n  </tbody>\n</table>\n<p>5 rows × 47 columns</p>\n</div>"
     },
     "execution_count": 14,
     "metadata": {},
     "output_type": "execute_result"
    }
   ],
   "source": [
    "df = load_df('data/SWaT.A3_dataset_Jul 19_labelled.xlsx', only_sensors=False)\n",
    "df = clean_df(df)\n",
    "df = normalize_df(df)\n",
    "df.head()"
   ]
  },
  {
   "cell_type": "code",
   "execution_count": 15,
   "outputs": [
    {
     "data": {
      "text/plain": "<Figure size 500x500 with 1 Axes>",
      "image/png": "[encoded data removed]"
     },
     "metadata": {},
     "output_type": "display_data"
    }
   ],
   "source": [
    "visualize_df(df, title='Attacks')"
   ],
   "metadata": {
    "collapsed": false,
    "ExecuteTime": {
     "end_time": "2023-11-07T14:27:16.714154Z",
     "start_time": "2023-11-07T14:27:14.232467Z"
    }
   },
   "id": "2f6195cf5881661"
  },
  {
   "cell_type": "code",
   "execution_count": 16,
   "id": "facf09246b81d41f",
   "metadata": {
    "ExecuteTime": {
     "end_time": "2023-11-07T14:27:18.693123Z",
     "start_time": "2023-11-07T14:27:16.716156Z"
    }
   },
   "outputs": [
    {
     "data": {
      "text/plain": "<Figure size 500x500 with 1 Axes>",
      "image/png": "[encoded data removed]"
     },
     "metadata": {},
     "output_type": "display_data"
    }
   ],
   "source": [
    "visualize_df(df, title='Attacks', outlier_col='Attack', targets=['benign', 'Spoofing', 'Switch_ON', 'Switch_close', 'Switch_off'], colors=['b', 'r', 'g', 'y', 'm'])"
   ]
  },
  {
   "cell_type": "code",
   "execution_count": 17,
   "outputs": [
    {
     "name": "stdout",
     "output_type": "stream",
     "text": [
      "proportion d'attaques dans le dataset: 0.17024539877300612\n"
     ]
    }
   ],
   "source": [
    "print(\"proportion d'attaques dans le dataset:\", len(df.loc[df.Label == 1]) / len(df))"
   ],
   "metadata": {
    "collapsed": false,
    "ExecuteTime": {
     "end_time": "2023-11-07T14:27:18.700969Z",
     "start_time": "2023-11-07T14:27:18.693955Z"
    }
   },
   "id": "1d861387165fd89d"
  },
  {
   "cell_type": "markdown",
   "id": "bee90c30e9ac5c5d",
   "metadata": {},
   "source": [
    "## Détection d'anomalies\n",
    "\n",
    "Nous allons désormais utiliser les fonctions définies précédemment pour détecter les anomalies dans le dataset.\n",
    "\n",
    "### Isolation Forest\n",
    "\n",
    "La première méthode que nous allons utiliser pour déterminer les outliers est Isolation Forest. Cette méthode est basée sur la construction d'arbres de décision aléatoires. Elle permet de déterminer les outliers en fonction du nombre de splits nécessaires pour isoler un point. Plus le nombre de splits est faible, plus le point est considéré comme un outlier."
   ]
  },
  {
   "cell_type": "code",
   "execution_count": 18,
   "id": "641211dae8c410df",
   "metadata": {
    "ExecuteTime": {
     "end_time": "2023-11-07T14:27:18.892774Z",
     "start_time": "2023-11-07T14:27:18.700149Z"
    }
   },
   "outputs": [],
   "source": [
    "# Remove extra columns (These columns must not be used for the detection of outliers)\n",
    "df_if, if_scores = predict_if(df, rate=0.15)"
   ]
  },
  {
   "cell_type": "code",
   "execution_count": 19,
   "id": "e9b14d95afbd8726",
   "metadata": {
    "ExecuteTime": {
     "end_time": "2023-11-07T14:27:22.285258Z",
     "start_time": "2023-11-07T14:27:18.862465Z"
    }
   },
   "outputs": [
    {
     "data": {
      "text/plain": "<Figure size 1000x500 with 2 Axes>",
      "image/png": "[encoded data removed]"
     },
     "metadata": {},
     "output_type": "display_data"
    }
   ],
   "source": [
    "visualize_dfs([df, df_if], ['Label', 'if_outliers'], titles=['Attacks', 'Isolation Forest'])"
   ]
  },
  {
   "cell_type": "code",
   "execution_count": 20,
   "id": "d3886d92301d19bb",
   "metadata": {
    "ExecuteTime": {
     "end_time": "2023-11-07T14:27:22.293396Z",
     "start_time": "2023-11-07T14:27:22.285815Z"
    }
   },
   "outputs": [
    {
     "name": "stdout",
     "output_type": "stream",
     "text": [
      "Accuracy: 0.79\n",
      "Precision: 0.37\n",
      "Recall: 0.33\n",
      "AUPRC: 0.11\n",
      "Matthews: 0.23\n"
     ]
    }
   ],
   "source": [
    "_ = evaluate(df_if, 'if_outliers', scores=if_scores)"
   ]
  },
  {
   "cell_type": "markdown",
   "id": "42ef89612b1691d5",
   "metadata": {},
   "source": [
    "On peut voir que la méthode Isolation Forest permet de détecter les anomalies avec une accuracy de 0.82, une precision de 0.32 et un recall de 0.06.  \n",
    "Ces résultats sont assez mauvais. Dans notre cas, la métrique la plus importante est le recall car elle indique le nombre d'attaques détectées par rapport au nombre d'attaques réelles."
   ]
  },
  {
   "cell_type": "markdown",
   "id": "702d9f3b",
   "metadata": {},
   "source": [
    "# Etudes des données"
   ]
  },
  {
   "cell_type": "code",
   "execution_count": 21,
   "id": "92839ba2",
   "metadata": {
    "ExecuteTime": {
     "end_time": "2023-11-07T14:27:22.301156Z",
     "start_time": "2023-11-07T14:27:22.294728Z"
    }
   },
   "outputs": [
    {
     "name": "stdout",
     "output_type": "stream",
     "text": [
      "La taille du dataset est 14996\n",
      "Les types d'attaque sont ['benign' 'Spoofing' 'Switch_ON' 'Switch_close' 'Switch_off']\n",
      "Le nombre d'attaques 'non-bénigne' est 2553\n"
     ]
    }
   ],
   "source": [
    "print(\"La taille du dataset est\", len(df))\n",
    "\n",
    "attack_labels = df['Attack'].unique()\n",
    "\n",
    "# Print the unique attack labels\n",
    "print(\"Les types d'attaque sont\", attack_labels)\n",
    "print (\"Le nombre d'attaques 'non-bénigne' est\", len(df.loc[df.Label == 1]))"
   ]
  },
  {
   "cell_type": "markdown",
   "id": "5ae7e5bf",
   "metadata": {},
   "source": [
    "5 types d'attaque:\n",
    "\n",
    "-benign: Attaque bénigne, labelisée 0;\n",
    "\n",
    "-Spoofing: Attque impliquant une usurpation d'identité, labélisée 1;\n",
    "\n",
    "-Switch_ON:\n",
    "\n",
    "-Switch_close:\n",
    "\n",
    "-Switch_off:"
   ]
  },
  {
   "cell_type": "code",
   "execution_count": 22,
   "id": "a83b04cd",
   "metadata": {
    "ExecuteTime": {
     "end_time": "2023-11-07T14:27:22.499186Z",
     "start_time": "2023-11-07T14:27:22.301032Z"
    }
   },
   "outputs": [
    {
     "data": {
      "text/plain": "<matplotlib.image.AxesImage at 0x160bd4910>"
     },
     "execution_count": 22,
     "metadata": {},
     "output_type": "execute_result"
    },
    {
     "data": {
      "text/plain": "<Figure size 480x480 with 1 Axes>",
      "image/png": "[encoded data removed]"
     },
     "metadata": {},
     "output_type": "display_data"
    }
   ],
   "source": [
    "df_feat = extract_features(df).copy()\n",
    "corr_matrix = df_feat.corr()\n",
    "\n",
    "# Print the correlation matrix\n",
    "corr_matrix.style.background_gradient(cmap='coolwarm')\n",
    "plt.matshow(corr_matrix)"
   ]
  },
  {
   "cell_type": "markdown",
   "id": "502117c3",
   "metadata": {},
   "source": [
    "Correlation élevée entre features FIT 501\tFIT 502\tFIT 503\tFIT 504\tPIT 501\tPIT 502\tPIT 503"
   ]
  },
  {
   "cell_type": "code",
   "execution_count": 23,
   "id": "17a645ac",
   "metadata": {
    "ExecuteTime": {
     "end_time": "2023-11-07T14:27:22.513664Z",
     "start_time": "2023-11-07T14:27:22.504675Z"
    }
   },
   "outputs": [
    {
     "name": "stdout",
     "output_type": "stream",
     "text": [
      "Label          0.000000\n",
      "FIT 101        0.000000\n",
      "LIT 101       -0.001740\n",
      "MV 101         0.000000\n",
      "P1_STATE       0.000000\n",
      "P101 Status    0.000000\n",
      "AIT 201       -0.001286\n",
      "AIT 202       -0.108577\n",
      "AIT 203       -0.033475\n",
      "FIT 201       -0.000042\n",
      "MV201          0.000000\n",
      "P203 Status    0.000000\n",
      "P205 Status    0.000000\n",
      "AIT 301       -0.005744\n",
      "AIT 302       -0.335001\n",
      "AIT 303        0.051427\n",
      "DPIT 301       0.616671\n",
      "FIT 301        0.356878\n",
      "LIT 301        0.024642\n",
      "MV 301         0.000000\n",
      "MV 302         0.462099\n",
      "MV 303         0.000000\n",
      "MV 304        -0.354592\n",
      "P3_STATE       0.031792\n",
      "P301 Status    0.125000\n",
      "AIT 402       -0.006175\n",
      "FIT 401        0.643607\n",
      "LIT 401        0.218727\n",
      "P401 Status   -0.002915\n",
      "UV401          0.763848\n",
      "AIT 501        0.005288\n",
      "AIT 502        0.018888\n",
      "AIT 503       -0.139441\n",
      "AIT 504        0.001845\n",
      "FIT 501       -0.000230\n",
      "FIT 502        0.007311\n",
      "FIT 503       -0.000929\n",
      "FIT 504       -0.001606\n",
      "MV 501         0.000000\n",
      "PIT 501        0.000680\n",
      "PIT 502       -0.000079\n",
      "PIT 503       -0.000198\n",
      "FIT 601       -0.000172\n",
      "LSH 601        0.000000\n",
      "P601 Status    0.000000\n",
      "dtype: float64\n"
     ]
    }
   ],
   "source": [
    "spoof_attacks = df[df['Attack'] == 'Spoofing']\n",
    "avg_sensor_readings_before_spoof = spoof_attacks.iloc[:24, 1:].mean(numeric_only=True)\n",
    "avg_sensor_readings_after_spoof = spoof_attacks.iloc[24:, 1:].mean(numeric_only=True)\n",
    "change_in_avg_sensor_readings = avg_sensor_readings_after_spoof - avg_sensor_readings_before_spoof\n",
    "print(change_in_avg_sensor_readings)"
   ]
  },
  {
   "cell_type": "markdown",
   "id": "7733b848",
   "metadata": {},
   "source": [
    "Le sensor LIT 401 réagit aux attaques de spoofing."
   ]
  },
  {
   "cell_type": "code",
   "execution_count": 24,
   "id": "4892c50c",
   "metadata": {
    "ExecuteTime": {
     "end_time": "2023-11-07T14:27:22.565402Z",
     "start_time": "2023-11-07T14:27:22.510472Z"
    }
   },
   "outputs": [
    {
     "name": "stdout",
     "output_type": "stream",
     "text": [
      "Label          0.000000\n",
      "FIT 101        0.496098\n",
      "LIT 101       -0.126791\n",
      "MV 101         0.217988\n",
      "P1_STATE       0.000000\n",
      "P101 Status    0.000000\n",
      "AIT 201       -0.631972\n",
      "AIT 202       -0.194200\n",
      "AIT 203       -0.001115\n",
      "FIT 201       -0.013920\n",
      "MV201          0.000000\n",
      "P203 Status   -0.018293\n",
      "P205 Status   -0.018293\n",
      "AIT 301        0.007977\n",
      "AIT 302        0.240888\n",
      "AIT 303       -0.045009\n",
      "DPIT 301      -0.640465\n",
      "FIT 301       -0.632642\n",
      "LIT 301        0.452214\n",
      "MV 301         0.000000\n",
      "MV 302        -0.344512\n",
      "MV 303         0.000000\n",
      "MV 304         0.000000\n",
      "P3_STATE       0.654953\n",
      "P301 Status   -0.690549\n",
      "AIT 402       -0.013356\n",
      "FIT 401        0.003883\n",
      "LIT 401       -0.166852\n",
      "P401 Status    0.000000\n",
      "UV401          0.000000\n",
      "AIT 501       -0.001049\n",
      "AIT 502       -0.013213\n",
      "AIT 503       -0.091328\n",
      "AIT 504        0.004113\n",
      "FIT 501        0.001735\n",
      "FIT 502        0.003527\n",
      "FIT 503       -0.003053\n",
      "FIT 504       -0.000491\n",
      "MV 501         0.000000\n",
      "PIT 501       -0.002491\n",
      "PIT 502        0.000151\n",
      "PIT 503       -0.000981\n",
      "FIT 601       -0.000046\n",
      "LSH 601       -0.961890\n",
      "P601 Status   -0.685976\n",
      "dtype: float64\n"
     ]
    }
   ],
   "source": [
    "on_attacks = df[df['Attack'] == 'Switch_ON']\n",
    "avg_sensor_readings_before_on = on_attacks.iloc[:24, 1:].mean(numeric_only=True)\n",
    "avg_sensor_readings_after_on = on_attacks.iloc[24:, 1:].mean(numeric_only=True)\n",
    "change_in_avg_sensor_readings = avg_sensor_readings_after_on - avg_sensor_readings_before_on\n",
    "print(change_in_avg_sensor_readings)"
   ]
  },
  {
   "cell_type": "markdown",
   "id": "d4b3ddd4",
   "metadata": {},
   "source": [
    "Le sensor LIT 301 réagit aux attaques de type switch_on."
   ]
  },
  {
   "cell_type": "code",
   "execution_count": 25,
   "id": "84767f59",
   "metadata": {
    "ExecuteTime": {
     "end_time": "2023-11-07T14:27:22.565780Z",
     "start_time": "2023-11-07T14:27:22.521716Z"
    }
   },
   "outputs": [
    {
     "name": "stdout",
     "output_type": "stream",
     "text": [
      "Label          0.000000\n",
      "FIT 101        0.000000\n",
      "LIT 101       -0.001081\n",
      "MV 101         0.000000\n",
      "P1_STATE       0.000000\n",
      "P101 Status    0.000000\n",
      "AIT 201        0.000975\n",
      "AIT 202       -0.192117\n",
      "AIT 203       -0.063567\n",
      "FIT 201        0.000028\n",
      "MV201          0.000000\n",
      "P203 Status    0.000000\n",
      "P205 Status    0.000000\n",
      "AIT 301        0.018448\n",
      "AIT 302        0.197854\n",
      "AIT 303        0.019823\n",
      "DPIT 301       0.034671\n",
      "FIT 301        0.003380\n",
      "LIT 301       -0.080635\n",
      "MV 301        -0.004484\n",
      "MV 302        -0.033632\n",
      "MV 303         0.020553\n",
      "MV 304         0.013827\n",
      "P3_STATE       0.004608\n",
      "P301 Status    0.325859\n",
      "AIT 402        0.002769\n",
      "FIT 401       -0.000864\n",
      "LIT 401       -0.286237\n",
      "P401 Status    0.000000\n",
      "UV401          0.000000\n",
      "AIT 501        0.008790\n",
      "AIT 502        0.002415\n",
      "AIT 503       -0.013576\n",
      "AIT 504        0.013135\n",
      "FIT 501        0.001780\n",
      "FIT 502       -0.007835\n",
      "FIT 503       -0.000899\n",
      "FIT 504        0.004002\n",
      "MV 501         0.000000\n",
      "PIT 501       -0.003643\n",
      "PIT 502       -0.000306\n",
      "PIT 503       -0.002585\n",
      "FIT 601        0.008376\n",
      "LSH 601        0.000000\n",
      "P601 Status    0.000000\n",
      "dtype: float64\n"
     ]
    }
   ],
   "source": [
    "off_attacks = df[df['Attack'] == 'Switch_off']\n",
    "avg_sensor_readings_before_off = off_attacks.iloc[:24, 1:].mean(numeric_only=True)\n",
    "avg_sensor_readings_after_off = off_attacks.iloc[24:, 1:].mean(numeric_only=True)\n",
    "change_in_avg_sensor_readings = avg_sensor_readings_after_off - avg_sensor_readings_before_off\n",
    "print(change_in_avg_sensor_readings)"
   ]
  },
  {
   "cell_type": "markdown",
   "id": "b3b72b28",
   "metadata": {},
   "source": [
    "Le sensor LIT 401 réagit aux attaques de type switch_off."
   ]
  },
  {
   "cell_type": "markdown",
   "id": "4e175f15",
   "metadata": {},
   "source": [
    "### Autres algorithmes\n",
    "\n",
    "Comme le dataset est labellisé, nous allons utiliser des algorithmes de classification pour avoir une meilleure prédiction."
   ]
  },
  {
   "cell_type": "code",
   "execution_count": 26,
   "id": "5559a48c",
   "metadata": {
    "ExecuteTime": {
     "end_time": "2023-11-07T14:27:22.620227Z",
     "start_time": "2023-11-07T14:27:22.531789Z"
    }
   },
   "outputs": [
    {
     "name": "stdout",
     "output_type": "stream",
     "text": [
      "6 attacks detected\n"
     ]
    }
   ],
   "source": [
    "from xgboost import XGBClassifier\n",
    "from sklearn.model_selection import train_test_split\n",
    "from sklearn.metrics import accuracy_score\n",
    "\n",
    "# Extract features and labels\n",
    "df_boost = df.copy()\n",
    "labels = extract_labels(df_boost)\n",
    "\n",
    "# boost_train & boost_test are the datasets used for training and testing the model\n",
    "# in opposite to X_train & X_test, they contain extra columns (Attack, Label, Timestamp)\n",
    "boost_train, boost_test, y_train, y_test = split_by_blocks(df_boost, labels, approximate_test_size=0.2, random_state=45)\n",
    "X_train = extract_features(boost_train)\n",
    "X_test = extract_features(boost_test)"
   ]
  },
  {
   "cell_type": "code",
   "execution_count": 27,
   "id": "d0b35c30",
   "metadata": {
    "ExecuteTime": {
     "end_time": "2023-11-07T14:27:22.753613Z",
     "start_time": "2023-11-07T14:27:22.617882Z"
    }
   },
   "outputs": [
    {
     "name": "stdout",
     "output_type": "stream",
     "text": [
      "Accuracy: 77.90%\n"
     ]
    }
   ],
   "source": [
    "model = XGBClassifier(use_label_encoder=False)\n",
    "model.fit(X_train, y_train)\n",
    "\n",
    "y_pred = model.predict(X_test)\n",
    "\n",
    "accuracy = accuracy_score(y_test, y_pred)\n",
    "print(\"Accuracy: %.2f%%\" % (accuracy * 100.0))"
   ]
  },
  {
   "cell_type": "code",
   "execution_count": 28,
   "id": "802f33b0",
   "metadata": {
    "ExecuteTime": {
     "end_time": "2023-11-07T14:27:22.756389Z",
     "start_time": "2023-11-07T14:27:22.750231Z"
    }
   },
   "outputs": [
    {
     "name": "stdout",
     "output_type": "stream",
     "text": [
      "Accuracy: 0.78\n",
      "Precision: 0.00\n",
      "Recall: 0.00\n",
      "Matthews: -0.04\n"
     ]
    },
    {
     "name": "stderr",
     "output_type": "stream",
     "text": [
      "/var/folders/4p/x0lxw1vn17lcx0_pyg_bjf1c0000gn/T/ipykernel_12676/2004268875.py:1: SettingWithCopyWarning: \n",
      "A value is trying to be set on a copy of a slice from a DataFrame.\n",
      "Try using .loc[row_indexer,col_indexer] = value instead\n",
      "\n",
      "See the caveats in the documentation: https://pandas.pydata.org/pandas-docs/stable/user_guide/indexing.html#returning-a-view-versus-a-copy\n",
      "  boost_test['xgb_predictions'] = y_pred\n"
     ]
    },
    {
     "data": {
      "text/plain": "(0.7790271966527197, 0.0, 0.0, None, -0.038944798679694644)"
     },
     "execution_count": 28,
     "metadata": {},
     "output_type": "execute_result"
    }
   ],
   "source": [
    "boost_test['xgb_predictions'] = y_pred\n",
    "evaluate(boost_test, 'xgb_predictions')"
   ]
  },
  {
   "cell_type": "code",
   "execution_count": 29,
   "id": "ca75b0a4",
   "metadata": {
    "ExecuteTime": {
     "end_time": "2023-11-07T14:27:25.919486Z",
     "start_time": "2023-11-07T14:27:22.754938Z"
    }
   },
   "outputs": [
    {
     "data": {
      "text/plain": "<Figure size 1000x500 with 2 Axes>",
      "image/png": "[encoded data removed]"
     },
     "metadata": {},
     "output_type": "display_data"
    }
   ],
   "source": [
    "visualize_dfs([boost_test, boost_test], ['Label', 'xgb_predictions'], titles=['Attacks', 'XGBoost'])"
   ]
  },
  {
   "cell_type": "markdown",
   "source": [
    "Comme on pourrait s'y attendre, XGBoost obtient un recall de 0% si il doit déclarer des attaques qu'il n'a jamais vu."
   ],
   "metadata": {
    "collapsed": false
   },
   "id": "ac7871d6d6631b52"
  },
  {
   "cell_type": "code",
   "execution_count": 30,
   "outputs": [
    {
     "name": "stdout",
     "output_type": "stream",
     "text": [
      "11172 3824\n"
     ]
    }
   ],
   "source": [
    "print(len(X_train), len(X_test))"
   ],
   "metadata": {
    "collapsed": false,
    "ExecuteTime": {
     "end_time": "2023-11-07T14:27:25.924558Z",
     "start_time": "2023-11-07T14:27:25.922228Z"
    }
   },
   "id": "dab36e4096319563"
  },
  {
   "cell_type": "code",
   "execution_count": 31,
   "outputs": [
    {
     "name": "stdout",
     "output_type": "stream",
     "text": [
      "655 attacks detected\n"
     ]
    }
   ],
   "source": [
    "res = split_by_blocks(X_test, y_test)"
   ],
   "metadata": {
    "collapsed": false,
    "ExecuteTime": {
     "end_time": "2023-11-07T14:27:26.007917Z",
     "start_time": "2023-11-07T14:27:25.932041Z"
    }
   },
   "id": "7f44aed76fd23647"
  },
  {
   "cell_type": "code",
   "execution_count": 31,
   "outputs": [],
   "source": [],
   "metadata": {
    "collapsed": false,
    "ExecuteTime": {
     "end_time": "2023-11-07T14:27:26.008114Z",
     "start_time": "2023-11-07T14:27:25.957026Z"
    }
   },
   "id": "26ab776ea0dcbbd9"
  }
 ],
 "metadata": {
  "kernelspec": {
   "display_name": "Python 3 (ipykernel)",
   "language": "python",
   "name": "python3"
  },
  "language_info": {
   "codemirror_mode": {
    "name": "ipython",
    "version": 3
   },
   "file_extension": ".py",
   "mimetype": "text/x-python",
   "name": "python",
   "nbconvert_exporter": "python",
   "pygments_lexer": "ipython3",
   "version": "3.11.4"
  }
 },
 "nbformat": 4,
 "nbformat_minor": 5
}
