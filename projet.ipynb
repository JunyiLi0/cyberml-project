{
 "cells": [
  {
   "cell_type": "code",
   "execution_count": 1,
   "outputs": [],
   "source": [
    "import pandas as pd\n",
    "from mlsecu.anomaly_detection_use_case import *\n",
    "from mlsecu.data_exploration_utils import *\n",
    "from mlsecu.data_preparation_utils import *\n",
    "import re\n",
    "import matplotlib.pyplot as plt"
   ],
   "metadata": {
    "collapsed": false,
    "ExecuteTime": {
     "end_time": "2023-10-19T15:08:09.875950868Z",
     "start_time": "2023-10-19T15:08:08.439645437Z"
    }
   },
   "id": "abb977aa1c5eb654"
  },
  {
   "cell_type": "code",
   "execution_count": 2,
   "outputs": [],
   "source": [
    "def load_df(name):\n",
    "    df = pd.read_excel(name)\n",
    "    sensor_regex = re.compile(r'^(A|F|L|P)IT\\d{3}\\.Pv$')\n",
    "    sensor_cols = [col for col in df.columns if sensor_regex.match(col)]\n",
    "    # sensor_cols.insert(0, 't_stamp')\n",
    "    df = df[sensor_cols]\n",
    "    return df\n",
    "\n",
    "def load_dfs():\n",
    "    names = ['data/22June2020_1.xlsx', 'data/22June2020_2.xlsx', \n",
    "             'data/29June2020_1.xlsx', 'data/29June2020_2.xlsx']\n",
    "    dfs = [load_df(name) for name in names]\n",
    "    df = pd.concat(dfs)\n",
    "    return df"
   ],
   "metadata": {
    "collapsed": false,
    "ExecuteTime": {
     "end_time": "2023-10-19T15:08:09.903797265Z",
     "start_time": "2023-10-19T15:08:09.880464143Z"
    }
   },
   "id": "790b3497444d477c"
  },
  {
   "cell_type": "code",
   "execution_count": 3,
   "outputs": [
    {
     "data": {
      "text/plain": "    LIT101.Pv  FIT101.Pv  FIT201.Pv  AIT201.Pv  AIT202.Pv   AIT203.Pv  \\\n0  695.284100        0.0   0.000256  18.072288   7.519418  135.708786   \n1  695.127100        0.0   0.000256  18.104332   7.514612  135.708786   \n2  694.930847        0.0   0.000256  18.104332   7.508844  135.708786   \n3  694.930847        0.0   0.000256  18.104332   7.504678  135.708786   \n4  694.852300        0.0   0.000256  18.104332   7.498911  135.708786   \n\n   AIT301.Pv  AIT302.Pv  AIT303.Pv   LIT301.Pv  ...  FIT503.Pv  FIT504.Pv  \\\n0   7.482105   110.4296  40.335487  1006.75311  ...   0.116122          0   \n1   7.482105   110.4296  40.335487  1006.75311  ...   0.116122          0   \n2   7.482105   110.4296  40.335487  1006.75311  ...   0.116122          0   \n3   7.489596   110.4296  40.335487  1006.75311  ...   0.116122          0   \n4   7.489596   110.4296  40.143414  1006.75311  ...   0.116122          0   \n\n   AIT501.Pv   AIT502.Pv  AIT503.Pv  AIT504.Pv   PIT501.Pv  PIT502.Pv  \\\n0   7.615548  149.628300   46.91105   1.845681  232.376312    2.01839   \n1   7.612343  149.628300   46.91105   1.845681  232.376312    2.01839   \n2   7.612343  149.628300   46.91105   1.845681  232.376312    2.01839   \n3   7.612343  149.525757   46.91105   1.845681  232.376312    2.01839   \n4   7.611382  149.525757   46.91105   1.845681  232.376312    2.01839   \n\n   PIT503.Pv  FIT601.Pv  \n0   206.9982   0.000256  \n1   206.9982   0.000256  \n2   206.9982   0.000256  \n3   206.9982   0.000256  \n4   206.9982   0.000256  \n\n[5 rows x 27 columns]",
      "text/html": "<div>\n<style scoped>\n    .dataframe tbody tr th:only-of-type {\n        vertical-align: middle;\n    }\n\n    .dataframe tbody tr th {\n        vertical-align: top;\n    }\n\n    .dataframe thead th {\n        text-align: right;\n    }\n</style>\n<table border=\"1\" class=\"dataframe\">\n  <thead>\n    <tr style=\"text-align: right;\">\n      <th></th>\n      <th>LIT101.Pv</th>\n      <th>FIT101.Pv</th>\n      <th>FIT201.Pv</th>\n      <th>AIT201.Pv</th>\n      <th>AIT202.Pv</th>\n      <th>AIT203.Pv</th>\n      <th>AIT301.Pv</th>\n      <th>AIT302.Pv</th>\n      <th>AIT303.Pv</th>\n      <th>LIT301.Pv</th>\n      <th>...</th>\n      <th>FIT503.Pv</th>\n      <th>FIT504.Pv</th>\n      <th>AIT501.Pv</th>\n      <th>AIT502.Pv</th>\n      <th>AIT503.Pv</th>\n      <th>AIT504.Pv</th>\n      <th>PIT501.Pv</th>\n      <th>PIT502.Pv</th>\n      <th>PIT503.Pv</th>\n      <th>FIT601.Pv</th>\n    </tr>\n  </thead>\n  <tbody>\n    <tr>\n      <th>0</th>\n      <td>695.284100</td>\n      <td>0.0</td>\n      <td>0.000256</td>\n      <td>18.072288</td>\n      <td>7.519418</td>\n      <td>135.708786</td>\n      <td>7.482105</td>\n      <td>110.4296</td>\n      <td>40.335487</td>\n      <td>1006.75311</td>\n      <td>...</td>\n      <td>0.116122</td>\n      <td>0</td>\n      <td>7.615548</td>\n      <td>149.628300</td>\n      <td>46.91105</td>\n      <td>1.845681</td>\n      <td>232.376312</td>\n      <td>2.01839</td>\n      <td>206.9982</td>\n      <td>0.000256</td>\n    </tr>\n    <tr>\n      <th>1</th>\n      <td>695.127100</td>\n      <td>0.0</td>\n      <td>0.000256</td>\n      <td>18.104332</td>\n      <td>7.514612</td>\n      <td>135.708786</td>\n      <td>7.482105</td>\n      <td>110.4296</td>\n      <td>40.335487</td>\n      <td>1006.75311</td>\n      <td>...</td>\n      <td>0.116122</td>\n      <td>0</td>\n      <td>7.612343</td>\n      <td>149.628300</td>\n      <td>46.91105</td>\n      <td>1.845681</td>\n      <td>232.376312</td>\n      <td>2.01839</td>\n      <td>206.9982</td>\n      <td>0.000256</td>\n    </tr>\n    <tr>\n      <th>2</th>\n      <td>694.930847</td>\n      <td>0.0</td>\n      <td>0.000256</td>\n      <td>18.104332</td>\n      <td>7.508844</td>\n      <td>135.708786</td>\n      <td>7.482105</td>\n      <td>110.4296</td>\n      <td>40.335487</td>\n      <td>1006.75311</td>\n      <td>...</td>\n      <td>0.116122</td>\n      <td>0</td>\n      <td>7.612343</td>\n      <td>149.628300</td>\n      <td>46.91105</td>\n      <td>1.845681</td>\n      <td>232.376312</td>\n      <td>2.01839</td>\n      <td>206.9982</td>\n      <td>0.000256</td>\n    </tr>\n    <tr>\n      <th>3</th>\n      <td>694.930847</td>\n      <td>0.0</td>\n      <td>0.000256</td>\n      <td>18.104332</td>\n      <td>7.504678</td>\n      <td>135.708786</td>\n      <td>7.489596</td>\n      <td>110.4296</td>\n      <td>40.335487</td>\n      <td>1006.75311</td>\n      <td>...</td>\n      <td>0.116122</td>\n      <td>0</td>\n      <td>7.612343</td>\n      <td>149.525757</td>\n      <td>46.91105</td>\n      <td>1.845681</td>\n      <td>232.376312</td>\n      <td>2.01839</td>\n      <td>206.9982</td>\n      <td>0.000256</td>\n    </tr>\n    <tr>\n      <th>4</th>\n      <td>694.852300</td>\n      <td>0.0</td>\n      <td>0.000256</td>\n      <td>18.104332</td>\n      <td>7.498911</td>\n      <td>135.708786</td>\n      <td>7.489596</td>\n      <td>110.4296</td>\n      <td>40.143414</td>\n      <td>1006.75311</td>\n      <td>...</td>\n      <td>0.116122</td>\n      <td>0</td>\n      <td>7.611382</td>\n      <td>149.525757</td>\n      <td>46.91105</td>\n      <td>1.845681</td>\n      <td>232.376312</td>\n      <td>2.01839</td>\n      <td>206.9982</td>\n      <td>0.000256</td>\n    </tr>\n  </tbody>\n</table>\n<p>5 rows × 27 columns</p>\n</div>"
     },
     "execution_count": 3,
     "metadata": {},
     "output_type": "execute_result"
    }
   ],
   "source": [
    "df = load_df('data/22June2020_1.xlsx')\n",
    "df.head()"
   ],
   "metadata": {
    "collapsed": false,
    "ExecuteTime": {
     "end_time": "2023-10-19T15:08:24.134808477Z",
     "start_time": "2023-10-19T15:08:09.886372606Z"
    }
   },
   "id": "c9d49b203f480c6d"
  },
  {
   "cell_type": "code",
   "execution_count": 4,
   "outputs": [
    {
     "data": {
      "text/plain": "          LIT101.Pv     FIT101.Pv     FIT201.Pv     AIT201.Pv     AIT202.Pv  \\\ncount  14400.000000  14400.000000  14400.000000  14400.000000  14400.000000   \nmean     745.134493      0.245470      0.921443     45.858387      8.303283   \nstd       85.034098      1.002200      1.143895     35.980065      0.909122   \nmin      494.074463      0.000000      0.000000     14.387337      7.133299   \n25%      694.656067      0.000000      0.000256     18.072288      7.476160   \n50%      781.071019      0.000000      0.000384     27.653166      8.059984   \n75%      815.162048      0.000000      2.342870     73.282490      9.370867   \nmax      816.967651      4.384588      2.413097    110.356316      9.695784   \n\n          AIT203.Pv     AIT301.Pv     AIT302.Pv     AIT303.Pv     LIT301.Pv  \\\ncount  14400.000000  14400.000000  14400.000000  14400.000000  14400.000000   \nmean     127.926579      7.737137    144.543083     48.071526    937.840665   \nstd       25.029523      0.338565     30.309694     19.050132     70.627441   \nmin       13.919508      7.052628    102.285675     29.003136    790.342200   \n25%      126.198410      7.394295    114.091812     40.015366    876.417900   \n50%      130.940781      7.734298    153.761444     44.785194    977.313550   \n75%      139.041275      8.072012    173.788330     54.773030   1006.673000   \nmax      158.728531      8.345636    197.246948    327.133600   1009.356630   \n\n       ...     FIT503.Pv  FIT504.Pv     AIT501.Pv     AIT502.Pv     AIT503.Pv  \\\ncount  ...  14400.000000    14400.0  14400.000000  14400.000000  14400.000000   \nmean   ...      0.071309        0.0      7.607555    160.594976     48.520726   \nstd    ...      0.055210        0.0      0.080360      8.354277      3.911336   \nmin    ...      0.001408        0.0      7.437388    146.936676     41.303513   \n25%    ...      0.002176        0.0      7.533517    152.832611     46.879005   \n50%    ...      0.113946        0.0      7.621956    161.343246     47.007180   \n75%    ...      0.116122        0.0      7.677070    164.752625     52.454500   \nmax    ...      0.136095        0.0      7.747885    179.748779     55.146120   \n\n          AIT504.Pv     PIT501.Pv     PIT502.Pv     PIT503.Pv     FIT601.Pv  \ncount  14400.000000  14400.000000  14400.000000  14400.000000  14400.000000  \nmean       2.107472    145.773700      1.647481    128.579515      0.012382  \nstd        2.985455    106.528359      0.630686     96.346190      0.139629  \nmin        1.115099     12.176365      0.160190      7.786465      0.000000  \n25%        1.691874     12.432710      1.425688      7.994745      0.000256  \n50%        1.768777    230.549866      2.018390    205.219818      0.000256  \n75%        2.230197    231.286850      2.066447    205.892715      0.000320  \nmax       63.752884    236.157400      4.741614    210.603058      1.805209  \n\n[8 rows x 27 columns]",
      "text/html": "<div>\n<style scoped>\n    .dataframe tbody tr th:only-of-type {\n        vertical-align: middle;\n    }\n\n    .dataframe tbody tr th {\n        vertical-align: top;\n    }\n\n    .dataframe thead th {\n        text-align: right;\n    }\n</style>\n<table border=\"1\" class=\"dataframe\">\n  <thead>\n    <tr style=\"text-align: right;\">\n      <th></th>\n      <th>LIT101.Pv</th>\n      <th>FIT101.Pv</th>\n      <th>FIT201.Pv</th>\n      <th>AIT201.Pv</th>\n      <th>AIT202.Pv</th>\n      <th>AIT203.Pv</th>\n      <th>AIT301.Pv</th>\n      <th>AIT302.Pv</th>\n      <th>AIT303.Pv</th>\n      <th>LIT301.Pv</th>\n      <th>...</th>\n      <th>FIT503.Pv</th>\n      <th>FIT504.Pv</th>\n      <th>AIT501.Pv</th>\n      <th>AIT502.Pv</th>\n      <th>AIT503.Pv</th>\n      <th>AIT504.Pv</th>\n      <th>PIT501.Pv</th>\n      <th>PIT502.Pv</th>\n      <th>PIT503.Pv</th>\n      <th>FIT601.Pv</th>\n    </tr>\n  </thead>\n  <tbody>\n    <tr>\n      <th>count</th>\n      <td>14400.000000</td>\n      <td>14400.000000</td>\n      <td>14400.000000</td>\n      <td>14400.000000</td>\n      <td>14400.000000</td>\n      <td>14400.000000</td>\n      <td>14400.000000</td>\n      <td>14400.000000</td>\n      <td>14400.000000</td>\n      <td>14400.000000</td>\n      <td>...</td>\n      <td>14400.000000</td>\n      <td>14400.0</td>\n      <td>14400.000000</td>\n      <td>14400.000000</td>\n      <td>14400.000000</td>\n      <td>14400.000000</td>\n      <td>14400.000000</td>\n      <td>14400.000000</td>\n      <td>14400.000000</td>\n      <td>14400.000000</td>\n    </tr>\n    <tr>\n      <th>mean</th>\n      <td>745.134493</td>\n      <td>0.245470</td>\n      <td>0.921443</td>\n      <td>45.858387</td>\n      <td>8.303283</td>\n      <td>127.926579</td>\n      <td>7.737137</td>\n      <td>144.543083</td>\n      <td>48.071526</td>\n      <td>937.840665</td>\n      <td>...</td>\n      <td>0.071309</td>\n      <td>0.0</td>\n      <td>7.607555</td>\n      <td>160.594976</td>\n      <td>48.520726</td>\n      <td>2.107472</td>\n      <td>145.773700</td>\n      <td>1.647481</td>\n      <td>128.579515</td>\n      <td>0.012382</td>\n    </tr>\n    <tr>\n      <th>std</th>\n      <td>85.034098</td>\n      <td>1.002200</td>\n      <td>1.143895</td>\n      <td>35.980065</td>\n      <td>0.909122</td>\n      <td>25.029523</td>\n      <td>0.338565</td>\n      <td>30.309694</td>\n      <td>19.050132</td>\n      <td>70.627441</td>\n      <td>...</td>\n      <td>0.055210</td>\n      <td>0.0</td>\n      <td>0.080360</td>\n      <td>8.354277</td>\n      <td>3.911336</td>\n      <td>2.985455</td>\n      <td>106.528359</td>\n      <td>0.630686</td>\n      <td>96.346190</td>\n      <td>0.139629</td>\n    </tr>\n    <tr>\n      <th>min</th>\n      <td>494.074463</td>\n      <td>0.000000</td>\n      <td>0.000000</td>\n      <td>14.387337</td>\n      <td>7.133299</td>\n      <td>13.919508</td>\n      <td>7.052628</td>\n      <td>102.285675</td>\n      <td>29.003136</td>\n      <td>790.342200</td>\n      <td>...</td>\n      <td>0.001408</td>\n      <td>0.0</td>\n      <td>7.437388</td>\n      <td>146.936676</td>\n      <td>41.303513</td>\n      <td>1.115099</td>\n      <td>12.176365</td>\n      <td>0.160190</td>\n      <td>7.786465</td>\n      <td>0.000000</td>\n    </tr>\n    <tr>\n      <th>25%</th>\n      <td>694.656067</td>\n      <td>0.000000</td>\n      <td>0.000256</td>\n      <td>18.072288</td>\n      <td>7.476160</td>\n      <td>126.198410</td>\n      <td>7.394295</td>\n      <td>114.091812</td>\n      <td>40.015366</td>\n      <td>876.417900</td>\n      <td>...</td>\n      <td>0.002176</td>\n      <td>0.0</td>\n      <td>7.533517</td>\n      <td>152.832611</td>\n      <td>46.879005</td>\n      <td>1.691874</td>\n      <td>12.432710</td>\n      <td>1.425688</td>\n      <td>7.994745</td>\n      <td>0.000256</td>\n    </tr>\n    <tr>\n      <th>50%</th>\n      <td>781.071019</td>\n      <td>0.000000</td>\n      <td>0.000384</td>\n      <td>27.653166</td>\n      <td>8.059984</td>\n      <td>130.940781</td>\n      <td>7.734298</td>\n      <td>153.761444</td>\n      <td>44.785194</td>\n      <td>977.313550</td>\n      <td>...</td>\n      <td>0.113946</td>\n      <td>0.0</td>\n      <td>7.621956</td>\n      <td>161.343246</td>\n      <td>47.007180</td>\n      <td>1.768777</td>\n      <td>230.549866</td>\n      <td>2.018390</td>\n      <td>205.219818</td>\n      <td>0.000256</td>\n    </tr>\n    <tr>\n      <th>75%</th>\n      <td>815.162048</td>\n      <td>0.000000</td>\n      <td>2.342870</td>\n      <td>73.282490</td>\n      <td>9.370867</td>\n      <td>139.041275</td>\n      <td>8.072012</td>\n      <td>173.788330</td>\n      <td>54.773030</td>\n      <td>1006.673000</td>\n      <td>...</td>\n      <td>0.116122</td>\n      <td>0.0</td>\n      <td>7.677070</td>\n      <td>164.752625</td>\n      <td>52.454500</td>\n      <td>2.230197</td>\n      <td>231.286850</td>\n      <td>2.066447</td>\n      <td>205.892715</td>\n      <td>0.000320</td>\n    </tr>\n    <tr>\n      <th>max</th>\n      <td>816.967651</td>\n      <td>4.384588</td>\n      <td>2.413097</td>\n      <td>110.356316</td>\n      <td>9.695784</td>\n      <td>158.728531</td>\n      <td>8.345636</td>\n      <td>197.246948</td>\n      <td>327.133600</td>\n      <td>1009.356630</td>\n      <td>...</td>\n      <td>0.136095</td>\n      <td>0.0</td>\n      <td>7.747885</td>\n      <td>179.748779</td>\n      <td>55.146120</td>\n      <td>63.752884</td>\n      <td>236.157400</td>\n      <td>4.741614</td>\n      <td>210.603058</td>\n      <td>1.805209</td>\n    </tr>\n  </tbody>\n</table>\n<p>8 rows × 27 columns</p>\n</div>"
     },
     "execution_count": 4,
     "metadata": {},
     "output_type": "execute_result"
    }
   ],
   "source": [
    "df.describe(include='all')"
   ],
   "metadata": {
    "collapsed": false,
    "ExecuteTime": {
     "end_time": "2023-10-19T15:08:24.338675028Z",
     "start_time": "2023-10-19T15:08:24.140530893Z"
    }
   },
   "id": "94b399cbde5db328"
  },
  {
   "cell_type": "code",
   "execution_count": 5,
   "outputs": [
    {
     "name": "stdout",
     "output_type": "stream",
     "text": [
      "Rate of undefined values for each column:\n",
      "LIT101.Pv: 0.0\n",
      "FIT101.Pv: 0.0\n",
      "FIT201.Pv: 0.0\n",
      "AIT201.Pv: 0.0\n",
      "AIT202.Pv: 0.0\n",
      "AIT203.Pv: 0.0\n",
      "AIT301.Pv: 0.0\n",
      "AIT302.Pv: 0.0\n",
      "AIT303.Pv: 0.0\n",
      "LIT301.Pv: 0.0\n",
      "FIT301.Pv: 0.0\n",
      "LIT401.Pv: 0.0\n",
      "FIT401.Pv: 0.0\n",
      "AIT401.Pv: 0.0\n",
      "AIT402.Pv: 0.0\n",
      "FIT501.Pv: 0.0\n",
      "FIT502.Pv: 0.0\n",
      "FIT503.Pv: 0.0\n",
      "FIT504.Pv: 0.0\n",
      "AIT501.Pv: 0.0\n",
      "AIT502.Pv: 0.0\n",
      "AIT503.Pv: 0.0\n",
      "AIT504.Pv: 0.0\n",
      "PIT501.Pv: 0.0\n",
      "PIT502.Pv: 0.0\n",
      "PIT503.Pv: 0.0\n",
      "FIT601.Pv: 0.0\n"
     ]
    }
   ],
   "source": [
    "print('Rate of undefined values for each column:')\n",
    "for col in df.columns:\n",
    "    print(f'{col}: {df[col].isna().sum() / len(df[col])}')"
   ],
   "metadata": {
    "collapsed": false,
    "ExecuteTime": {
     "end_time": "2023-10-19T15:08:24.340096112Z",
     "start_time": "2023-10-19T15:08:24.255400391Z"
    }
   },
   "id": "26588e3dfc974614"
  },
  {
   "cell_type": "code",
   "execution_count": 6,
   "outputs": [
    {
     "data": {
      "text/plain": "'\\nall_df = load_dfs()\\nall_df.head()\\n'"
     },
     "execution_count": 6,
     "metadata": {},
     "output_type": "execute_result"
    }
   ],
   "source": [
    "'''\n",
    "all_df = load_dfs()\n",
    "all_df.head()\n",
    "'''"
   ],
   "metadata": {
    "collapsed": false,
    "ExecuteTime": {
     "end_time": "2023-10-19T15:08:24.340615193Z",
     "start_time": "2023-10-19T15:08:24.296658082Z"
    }
   },
   "id": "9e6caac4536ac133"
  },
  {
   "cell_type": "code",
   "execution_count": 7,
   "outputs": [],
   "source": [
    "# all_df.describe()"
   ],
   "metadata": {
    "collapsed": false,
    "ExecuteTime": {
     "end_time": "2023-10-19T15:08:24.340848334Z",
     "start_time": "2023-10-19T15:08:24.297107220Z"
    }
   },
   "id": "a817f55eddd450dd"
  },
  {
   "cell_type": "code",
   "execution_count": 8,
   "outputs": [
    {
     "data": {
      "text/plain": "\"\\nall_df.dropna(axis=1, inplace=True)\\nall_df.describe(include='all')\\n\""
     },
     "execution_count": 8,
     "metadata": {},
     "output_type": "execute_result"
    }
   ],
   "source": [
    "'''\n",
    "all_df.dropna(axis=1, inplace=True)\n",
    "all_df.describe(include='all')\n",
    "'''"
   ],
   "metadata": {
    "collapsed": false,
    "ExecuteTime": {
     "end_time": "2023-10-19T15:08:24.341305154Z",
     "start_time": "2023-10-19T15:08:24.297442086Z"
    }
   },
   "id": "fc9eef0e464f8490"
  },
  {
   "cell_type": "code",
   "execution_count": 9,
   "outputs": [],
   "source": [
    "# all_df.head()"
   ],
   "metadata": {
    "collapsed": false,
    "ExecuteTime": {
     "end_time": "2023-10-19T15:08:24.341538898Z",
     "start_time": "2023-10-19T15:08:24.297796763Z"
    }
   },
   "id": "3df9efa2e3322c57"
  },
  {
   "cell_type": "code",
   "execution_count": 10,
   "outputs": [
    {
     "data": {
      "text/plain": "\"\\nif_outliers = get_list_of_if_outliers(all_df, 0.03)\\nprint(f'Number of outliers: {len(if_outliers)}')\\n\""
     },
     "execution_count": 10,
     "metadata": {},
     "output_type": "execute_result"
    }
   ],
   "source": [
    "'''\n",
    "if_outliers = get_list_of_if_outliers(all_df, 0.03)\n",
    "print(f'Number of outliers: {len(if_outliers)}')\n",
    "'''"
   ],
   "metadata": {
    "collapsed": false,
    "ExecuteTime": {
     "end_time": "2023-10-19T15:08:24.341978119Z",
     "start_time": "2023-10-19T15:08:24.298085358Z"
    }
   },
   "id": "6c976c95d37a2a1b"
  },
  {
   "cell_type": "code",
   "execution_count": 11,
   "outputs": [
    {
     "name": "stdout",
     "output_type": "stream",
     "text": [
      "Number of outliers: 432\n"
     ]
    }
   ],
   "source": [
    "if_outliers = get_list_of_if_outliers(df, 0.03)\n",
    "print(f'Number of outliers: {len(if_outliers)}')"
   ],
   "metadata": {
    "collapsed": false,
    "ExecuteTime": {
     "end_time": "2023-10-19T15:08:24.660814101Z",
     "start_time": "2023-10-19T15:08:24.339569616Z"
    }
   },
   "id": "c6e5b4197582d042"
  }
 ],
 "metadata": {
  "kernelspec": {
   "display_name": "Python 3",
   "language": "python",
   "name": "python3"
  },
  "language_info": {
   "codemirror_mode": {
    "name": "ipython",
    "version": 2
   },
   "file_extension": ".py",
   "mimetype": "text/x-python",
   "name": "python",
   "nbconvert_exporter": "python",
   "pygments_lexer": "ipython2",
   "version": "2.7.6"
  }
 },
 "nbformat": 4,
 "nbformat_minor": 5
}
